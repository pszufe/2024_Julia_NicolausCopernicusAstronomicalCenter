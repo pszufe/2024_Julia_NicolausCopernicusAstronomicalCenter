{
 "cells": [
  {
   "cell_type": "code",
   "execution_count": 1,
   "metadata": {},
   "outputs": [],
   "source": [
    "dat=\"\"\"col1\\tcol2\\tcol3\\tdate1\n",
    "1\\t2.3\\tabc\\t2021-11-17 12:33:12\n",
    "10\\t4.3\\tdef\\t2021-11-18 14:56:42\n",
    "20\\t5.3\\tsgh123\\t2021-11-19 17:23:52\"\"\"\n",
    "file_name = raw\".\\filename.csv\"\n",
    "open(file_name,\"w\") do f \n",
    "    println(f, dat) \n",
    "end"
   ]
  },
  {
   "cell_type": "code",
   "execution_count": 2,
   "metadata": {},
   "outputs": [
    {
     "name": "stdout",
     "output_type": "stream",
     "text": [
      "col1    col2    col3    date1\n",
      "1       2.3     abc     2021-11-17 12:33:12\n",
      "10      4.3     def     2021-11-18 14:56:42\n",
      "20      5.3     sgh123  2021-11-19 17:23:52\n"
     ]
    }
   ],
   "source": [
    ";more $file_name"
   ]
  },
  {
   "cell_type": "code",
   "execution_count": 3,
   "metadata": {},
   "outputs": [
    {
     "data": {
      "text/html": [
       "<div><div style = \"float: left;\"><span>3×4 DataFrame</span></div><div style = \"clear: both;\"></div></div><div class = \"data-frame\" style = \"overflow-x: scroll;\"><table class = \"data-frame\" style = \"margin-bottom: 6px;\"><thead><tr class = \"header\"><th class = \"rowNumber\" style = \"font-weight: bold; text-align: right;\">Row</th><th style = \"text-align: left;\">col1</th><th style = \"text-align: left;\">col2</th><th style = \"text-align: left;\">col3</th><th style = \"text-align: left;\">date1</th></tr><tr class = \"subheader headerLastRow\"><th class = \"rowNumber\" style = \"font-weight: bold; text-align: right;\"></th><th title = \"Int64\" style = \"text-align: left;\">Int64</th><th title = \"Float64\" style = \"text-align: left;\">Float64</th><th title = \"String7\" style = \"text-align: left;\">String7</th><th title = \"DateTime\" style = \"text-align: left;\">DateTime</th></tr></thead><tbody><tr><td class = \"rowNumber\" style = \"font-weight: bold; text-align: right;\">1</td><td style = \"text-align: right;\">1</td><td style = \"text-align: right;\">2.3</td><td style = \"text-align: left;\">abc</td><td style = \"text-align: left;\">2021-11-17T12:33:12</td></tr><tr><td class = \"rowNumber\" style = \"font-weight: bold; text-align: right;\">2</td><td style = \"text-align: right;\">10</td><td style = \"text-align: right;\">4.3</td><td style = \"text-align: left;\">def</td><td style = \"text-align: left;\">2021-11-18T14:56:42</td></tr><tr><td class = \"rowNumber\" style = \"font-weight: bold; text-align: right;\">3</td><td style = \"text-align: right;\">20</td><td style = \"text-align: right;\">5.3</td><td style = \"text-align: left;\">sgh123</td><td style = \"text-align: left;\">2021-11-19T17:23:52</td></tr></tbody></table></div>"
      ],
      "text/latex": [
       "\\begin{tabular}{r|cccc}\n",
       "\t& col1 & col2 & col3 & date1\\\\\n",
       "\t\\hline\n",
       "\t& Int64 & Float64 & String7 & DateTime\\\\\n",
       "\t\\hline\n",
       "\t1 & 1 & 2.3 & abc & 2021-11-17T12:33:12 \\\\\n",
       "\t2 & 10 & 4.3 & def & 2021-11-18T14:56:42 \\\\\n",
       "\t3 & 20 & 5.3 & sgh123 & 2021-11-19T17:23:52 \\\\\n",
       "\\end{tabular}\n"
      ],
      "text/plain": [
       "\u001b[1m3×4 DataFrame\u001b[0m\n",
       "\u001b[1m Row \u001b[0m│\u001b[1m col1  \u001b[0m\u001b[1m col2    \u001b[0m\u001b[1m col3    \u001b[0m\u001b[1m date1               \u001b[0m\n",
       "     │\u001b[90m Int64 \u001b[0m\u001b[90m Float64 \u001b[0m\u001b[90m String7 \u001b[0m\u001b[90m DateTime            \u001b[0m\n",
       "─────┼──────────────────────────────────────────────\n",
       "   1 │     1      2.3  abc      2021-11-17T12:33:12\n",
       "   2 │    10      4.3  def      2021-11-18T14:56:42\n",
       "   3 │    20      5.3  sgh123   2021-11-19T17:23:52"
      ]
     },
     "execution_count": 3,
     "metadata": {},
     "output_type": "execute_result"
    }
   ],
   "source": [
    "using CSV, DataFrames, Dates\n",
    "df = CSV.read(file_name, DataFrame;\n",
    "              dateformat=\"y-m-d H:M:S\", types = Dict(:date1 => DateTime))"
   ]
  },
  {
   "cell_type": "code",
   "execution_count": 4,
   "metadata": {},
   "outputs": [
    {
     "data": {
      "text/plain": [
       "2021-11-17T12:33:12"
      ]
     },
     "execution_count": 4,
     "metadata": {},
     "output_type": "execute_result"
    }
   ],
   "source": [
    "df.date1[1]"
   ]
  },
  {
   "cell_type": "code",
   "execution_count": 5,
   "metadata": {
    "scrolled": true
   },
   "outputs": [
    {
     "data": {
      "text/html": [
       "<div><div style = \"float: left;\"><span>3×6 DataFrame</span></div><div style = \"clear: both;\"></div></div><div class = \"data-frame\" style = \"overflow-x: scroll;\"><table class = \"data-frame\" style = \"margin-bottom: 6px;\"><thead><tr class = \"header\"><th class = \"rowNumber\" style = \"font-weight: bold; text-align: right;\">Row</th><th style = \"text-align: left;\">col1</th><th style = \"text-align: left;\">col2</th><th style = \"text-align: left;\">col3</th><th style = \"text-align: left;\">date1</th><th style = \"text-align: left;\">year</th><th style = \"text-align: left;\">day</th></tr><tr class = \"subheader headerLastRow\"><th class = \"rowNumber\" style = \"font-weight: bold; text-align: right;\"></th><th title = \"Int64\" style = \"text-align: left;\">Int64</th><th title = \"Float64\" style = \"text-align: left;\">Float64</th><th title = \"String7\" style = \"text-align: left;\">String7</th><th title = \"DateTime\" style = \"text-align: left;\">DateTime</th><th title = \"Int64\" style = \"text-align: left;\">Int64</th><th title = \"Int64\" style = \"text-align: left;\">Int64</th></tr></thead><tbody><tr><td class = \"rowNumber\" style = \"font-weight: bold; text-align: right;\">1</td><td style = \"text-align: right;\">1</td><td style = \"text-align: right;\">2.3</td><td style = \"text-align: left;\">abc</td><td style = \"text-align: left;\">2021-11-17T12:33:12</td><td style = \"text-align: right;\">2021</td><td style = \"text-align: right;\">17</td></tr><tr><td class = \"rowNumber\" style = \"font-weight: bold; text-align: right;\">2</td><td style = \"text-align: right;\">10</td><td style = \"text-align: right;\">4.3</td><td style = \"text-align: left;\">def</td><td style = \"text-align: left;\">2021-11-18T14:56:42</td><td style = \"text-align: right;\">2021</td><td style = \"text-align: right;\">18</td></tr><tr><td class = \"rowNumber\" style = \"font-weight: bold; text-align: right;\">3</td><td style = \"text-align: right;\">20</td><td style = \"text-align: right;\">5.3</td><td style = \"text-align: left;\">sgh123</td><td style = \"text-align: left;\">2021-11-19T17:23:52</td><td style = \"text-align: right;\">2021</td><td style = \"text-align: right;\">19</td></tr></tbody></table></div>"
      ],
      "text/latex": [
       "\\begin{tabular}{r|cccccc}\n",
       "\t& col1 & col2 & col3 & date1 & year & day\\\\\n",
       "\t\\hline\n",
       "\t& Int64 & Float64 & String7 & DateTime & Int64 & Int64\\\\\n",
       "\t\\hline\n",
       "\t1 & 1 & 2.3 & abc & 2021-11-17T12:33:12 & 2021 & 17 \\\\\n",
       "\t2 & 10 & 4.3 & def & 2021-11-18T14:56:42 & 2021 & 18 \\\\\n",
       "\t3 & 20 & 5.3 & sgh123 & 2021-11-19T17:23:52 & 2021 & 19 \\\\\n",
       "\\end{tabular}\n"
      ],
      "text/plain": [
       "\u001b[1m3×6 DataFrame\u001b[0m\n",
       "\u001b[1m Row \u001b[0m│\u001b[1m col1  \u001b[0m\u001b[1m col2    \u001b[0m\u001b[1m col3    \u001b[0m\u001b[1m date1               \u001b[0m\u001b[1m year  \u001b[0m\u001b[1m day   \u001b[0m\n",
       "     │\u001b[90m Int64 \u001b[0m\u001b[90m Float64 \u001b[0m\u001b[90m String7 \u001b[0m\u001b[90m DateTime            \u001b[0m\u001b[90m Int64 \u001b[0m\u001b[90m Int64 \u001b[0m\n",
       "─────┼────────────────────────────────────────────────────────────\n",
       "   1 │     1      2.3  abc      2021-11-17T12:33:12   2021     17\n",
       "   2 │    10      4.3  def      2021-11-18T14:56:42   2021     18\n",
       "   3 │    20      5.3  sgh123   2021-11-19T17:23:52   2021     19"
      ]
     },
     "execution_count": 5,
     "metadata": {},
     "output_type": "execute_result"
    }
   ],
   "source": [
    "df.year = year.(df.date1)\n",
    "df.day = day.(df.date1)\n",
    "df"
   ]
  },
  {
   "cell_type": "code",
   "execution_count": 6,
   "metadata": {},
   "outputs": [
    {
     "data": {
      "text/plain": [
       "3×3 Matrix{Float64}:\n",
       " 0.450185  0.00937441  0.910652\n",
       " 0.719387  0.693428    0.385493\n",
       " 0.799998  0.891112    0.465691"
      ]
     },
     "execution_count": 6,
     "metadata": {},
     "output_type": "execute_result"
    }
   ],
   "source": [
    "a = rand(3,3)"
   ]
  },
  {
   "cell_type": "code",
   "execution_count": 7,
   "metadata": {},
   "outputs": [
    {
     "data": {
      "text/html": [
       "<div><div style = \"float: left;\"><span>3×5 DataFrame</span></div><div style = \"clear: both;\"></div></div><div class = \"data-frame\" style = \"overflow-x: scroll;\"><table class = \"data-frame\" style = \"margin-bottom: 6px;\"><thead><tr class = \"header\"><th class = \"rowNumber\" style = \"font-weight: bold; text-align: right;\">Row</th><th style = \"text-align: left;\">col1</th><th style = \"text-align: left;\">col2</th><th style = \"text-align: left;\">date1</th><th style = \"text-align: left;\">year</th><th style = \"text-align: left;\">day</th></tr><tr class = \"subheader headerLastRow\"><th class = \"rowNumber\" style = \"font-weight: bold; text-align: right;\"></th><th title = \"Int64\" style = \"text-align: left;\">Int64</th><th title = \"Float64\" style = \"text-align: left;\">Float64</th><th title = \"DateTime\" style = \"text-align: left;\">DateTime</th><th title = \"Int64\" style = \"text-align: left;\">Int64</th><th title = \"Int64\" style = \"text-align: left;\">Int64</th></tr></thead><tbody><tr><td class = \"rowNumber\" style = \"font-weight: bold; text-align: right;\">1</td><td style = \"text-align: right;\">1</td><td style = \"text-align: right;\">2.3</td><td style = \"text-align: left;\">2021-11-17T12:33:12</td><td style = \"text-align: right;\">2021</td><td style = \"text-align: right;\">17</td></tr><tr><td class = \"rowNumber\" style = \"font-weight: bold; text-align: right;\">2</td><td style = \"text-align: right;\">10</td><td style = \"text-align: right;\">4.3</td><td style = \"text-align: left;\">2021-11-18T14:56:42</td><td style = \"text-align: right;\">2021</td><td style = \"text-align: right;\">18</td></tr><tr><td class = \"rowNumber\" style = \"font-weight: bold; text-align: right;\">3</td><td style = \"text-align: right;\">20</td><td style = \"text-align: right;\">5.3</td><td style = \"text-align: left;\">2021-11-19T17:23:52</td><td style = \"text-align: right;\">2021</td><td style = \"text-align: right;\">19</td></tr></tbody></table></div>"
      ],
      "text/latex": [
       "\\begin{tabular}{r|ccccc}\n",
       "\t& col1 & col2 & date1 & year & day\\\\\n",
       "\t\\hline\n",
       "\t& Int64 & Float64 & DateTime & Int64 & Int64\\\\\n",
       "\t\\hline\n",
       "\t1 & 1 & 2.3 & 2021-11-17T12:33:12 & 2021 & 17 \\\\\n",
       "\t2 & 10 & 4.3 & 2021-11-18T14:56:42 & 2021 & 18 \\\\\n",
       "\t3 & 20 & 5.3 & 2021-11-19T17:23:52 & 2021 & 19 \\\\\n",
       "\\end{tabular}\n"
      ],
      "text/plain": [
       "\u001b[1m3×5 DataFrame\u001b[0m\n",
       "\u001b[1m Row \u001b[0m│\u001b[1m col1  \u001b[0m\u001b[1m col2    \u001b[0m\u001b[1m date1               \u001b[0m\u001b[1m year  \u001b[0m\u001b[1m day   \u001b[0m\n",
       "     │\u001b[90m Int64 \u001b[0m\u001b[90m Float64 \u001b[0m\u001b[90m DateTime            \u001b[0m\u001b[90m Int64 \u001b[0m\u001b[90m Int64 \u001b[0m\n",
       "─────┼───────────────────────────────────────────────────\n",
       "   1 │     1      2.3  2021-11-17T12:33:12   2021     17\n",
       "   2 │    10      4.3  2021-11-18T14:56:42   2021     18\n",
       "   3 │    20      5.3  2021-11-19T17:23:52   2021     19"
      ]
     },
     "execution_count": 7,
     "metadata": {},
     "output_type": "execute_result"
    }
   ],
   "source": [
    "df[:, Not(:col3)]"
   ]
  },
  {
   "cell_type": "code",
   "execution_count": 8,
   "metadata": {},
   "outputs": [
    {
     "name": "stdout",
     "output_type": "stream",
     "text": [
      "Current folder : C:\\AAABIBLIOTEKA\\CAMK\\2024_Julia_EC_EconomicDepShort\\2_Working_with_Data_Sources\n"
     ]
    }
   ],
   "source": [
    "using XLSX\n",
    "println(\"Current folder : \",pwd())"
   ]
  },
  {
   "cell_type": "code",
   "execution_count": 9,
   "metadata": {},
   "outputs": [
    {
     "data": {
      "text/plain": [
       "3×3 Matrix{Int64}:\n",
       " 1  4  7\n",
       " 2  5  8\n",
       " 3  6  9"
      ]
     },
     "execution_count": 9,
     "metadata": {},
     "output_type": "execute_result"
    }
   ],
   "source": [
    "XLSX.openxlsx(joinpath(pwd(),\"my_new_file.xlsx\"), mode=\"w\") do xf\n",
    "    sheet = xf[1]\n",
    "    XLSX.rename!(sheet, \"Spreadsheet name\")\n",
    "    sheet[\"A1\"] = \"this\"\n",
    "    sheet[\"A2\"] = \"is a\"\n",
    "    sheet[\"A3\"] = \"new file\"\n",
    "    sheet[\"A4\"] = 100\n",
    "\n",
    "    sheet[\"A7\"] = collect(1:5)   #slide to right\n",
    "    sheet[\"A8\", dim=2] = collect(1:4) # slide to right\n",
    "\n",
    "    \n",
    "    sheet[\"C1\", dim=1] = collect(1:4) # slide downwards\n",
    "\n",
    "    sheet[\"E3:G5\"] = collect(reshape(1:9,(3,3)))\n",
    "    \n",
    "end"
   ]
  },
  {
   "cell_type": "code",
   "execution_count": 10,
   "metadata": {},
   "outputs": [
    {
     "data": {
      "text/plain": [
       "XLSXFile(\"C:\\AAABIBLIOTEKA\\CAMK\\2024_Julia_EC_EconomicDepShort\\2_Working_with_Data_Sources\\my_new_file.xlsx\") containing 1 Worksheet\n",
       "            sheetname size          range        \n",
       "-------------------------------------------------\n",
       "     Spreadsheet name 8x7           A1:G8        \n"
      ]
     },
     "execution_count": 10,
     "metadata": {},
     "output_type": "execute_result"
    }
   ],
   "source": [
    "import XLSX\n",
    "\n",
    "xf = XLSX.readxlsx(joinpath(pwd(),\"my_new_file.xlsx\"))"
   ]
  },
  {
   "cell_type": "code",
   "execution_count": 11,
   "metadata": {},
   "outputs": [
    {
     "data": {
      "text/plain": [
       "1-element Vector{String}:\n",
       " \"Spreadsheet name\""
      ]
     },
     "execution_count": 11,
     "metadata": {},
     "output_type": "execute_result"
    }
   ],
   "source": [
    "XLSX.sheetnames(xf)"
   ]
  },
  {
   "cell_type": "code",
   "execution_count": 12,
   "metadata": {},
   "outputs": [
    {
     "data": {
      "text/plain": [
       "8×7 XLSX.Worksheet: [\"Spreadsheet name\"](A1:G8) "
      ]
     },
     "execution_count": 12,
     "metadata": {},
     "output_type": "execute_result"
    }
   ],
   "source": [
    "sh = xf[XLSX.sheetnames(xf)[1]] # get a reference to a Worksheet"
   ]
  },
  {
   "cell_type": "code",
   "execution_count": 13,
   "metadata": {},
   "outputs": [
    {
     "data": {
      "text/plain": [
       "((1, 1), (8, 7))"
      ]
     },
     "execution_count": 13,
     "metadata": {},
     "output_type": "execute_result"
    }
   ],
   "source": [
    "dim = XLSX.get_dimension(sh)\n",
    "start = (dim.start.row_number, dim.start.column_number)\n",
    "end_ = (dim.stop.row_number, dim.stop.column_number)\n",
    "start, end_"
   ]
  },
  {
   "cell_type": "code",
   "execution_count": 14,
   "metadata": {},
   "outputs": [
    {
     "name": "stdout",
     "output_type": "stream",
     "text": [
      "this\tmissing\t1\tmissing\tmissing\tmissing\tmissing\t\n",
      "is a\tmissing\t2\tmissing\tmissing\tmissing\tmissing\t\n",
      "new file\tmissing\t3\tmissing\t1\t4\t7\t\n",
      "100\tmissing\t4\tmissing\t2\t5\t8\t\n",
      "missing\tmissing\tmissing\tmissing\t3\t6\t9\t\n",
      "missing\tmissing\tmissing\tmissing\tmissing\tmissing\tmissing\t\n",
      "1\t2\t3\t4\t5\tmissing\tmissing\t\n",
      "1\t2\t3\t4\tmissing\tmissing\tmissing\t\n"
     ]
    }
   ],
   "source": [
    "for row in start[1]:end_[1]\n",
    "    for col in start[2]:end_[2]\n",
    "        print(sh[row,col])\n",
    "        print(\"\\t\")\n",
    "    end\n",
    "    println()\n",
    "end        "
   ]
  },
  {
   "cell_type": "code",
   "execution_count": 15,
   "metadata": {},
   "outputs": [
    {
     "data": {
      "text/plain": [
       "8×7 Matrix{Any}:\n",
       "    \"this\"       missing  1          missing   missing   missing   missing\n",
       "    \"is a\"       missing  2          missing   missing   missing   missing\n",
       "    \"new file\"   missing  3          missing  1         4         7\n",
       " 100             missing  4          missing  2         5         8\n",
       "    missing      missing   missing   missing  3         6         9\n",
       "    missing      missing   missing   missing   missing   missing   missing\n",
       "   1            2         3         4         5          missing   missing\n",
       "   1            2         3         4          missing   missing   missing"
      ]
     },
     "execution_count": 15,
     "metadata": {},
     "output_type": "execute_result"
    }
   ],
   "source": [
    "sh[:]"
   ]
  },
  {
   "cell_type": "code",
   "execution_count": 16,
   "metadata": {},
   "outputs": [
    {
     "data": {
      "text/plain": [
       "8×7 Matrix{Union{Missing, Float64, Int64, String}}:\n",
       "    \"this\"       missing  1          missing   missing   missing   missing\n",
       "    \"is a\"       missing  2          missing   missing   missing   missing\n",
       "    \"new file\"   missing  3          missing  1         4         7\n",
       " 100             missing  4          missing  2         5         8\n",
       "    missing      missing   missing   missing  3         6         9\n",
       "    missing      missing   missing   missing   missing   missing   missing\n",
       "   1            2         3         4         5          missing   missing\n",
       "   1            2         3         4          missing   missing   missing"
      ]
     },
     "execution_count": 16,
     "metadata": {},
     "output_type": "execute_result"
    }
   ],
   "source": [
    "m = Matrix{Union{Int,Float64,String,Missing}}(undef,(end_[1],end_[2]))\n",
    "m .= sh[:]"
   ]
  },
  {
   "cell_type": "code",
   "execution_count": 17,
   "metadata": {},
   "outputs": [
    {
     "data": {
      "text/plain": [
       "3×2 Matrix{Any}:\n",
       "    \"is a\"      missing\n",
       "    \"new file\"  missing\n",
       " 100            missing"
      ]
     },
     "execution_count": 17,
     "metadata": {},
     "output_type": "execute_result"
    }
   ],
   "source": [
    "xf[XLSX.sheetnames(xf)[1]*\"!A2:B4\"]"
   ]
  },
  {
   "cell_type": "code",
   "execution_count": 18,
   "metadata": {
    "scrolled": true
   },
   "outputs": [
    {
     "data": {
      "text/html": [
       "<div><div style = \"float: left;\"><span>5×4 DataFrame</span></div><div style = \"clear: both;\"></div></div><div class = \"data-frame\" style = \"overflow-x: scroll;\"><table class = \"data-frame\" style = \"margin-bottom: 6px;\"><thead><tr class = \"header\"><th class = \"rowNumber\" style = \"font-weight: bold; text-align: right;\">Row</th><th style = \"text-align: left;\">a</th><th style = \"text-align: left;\">b</th><th style = \"text-align: left;\">c</th><th style = \"text-align: left;\">d</th></tr><tr class = \"subheader headerLastRow\"><th class = \"rowNumber\" style = \"font-weight: bold; text-align: right;\"></th><th title = \"Int64\" style = \"text-align: left;\">Int64</th><th title = \"String\" style = \"text-align: left;\">String</th><th title = \"Float64\" style = \"text-align: left;\">Float64</th><th title = \"Union{Missing, Int64}\" style = \"text-align: left;\">Int64?</th></tr></thead><tbody><tr><td class = \"rowNumber\" style = \"font-weight: bold; text-align: right;\">1</td><td style = \"text-align: right;\">1</td><td style = \"text-align: left;\">Hello1</td><td style = \"text-align: right;\">6.5</td><td style = \"text-align: right;\">11</td></tr><tr><td class = \"rowNumber\" style = \"font-weight: bold; text-align: right;\">2</td><td style = \"text-align: right;\">2</td><td style = \"text-align: left;\">Hello2</td><td style = \"text-align: right;\">7.5</td><td style = \"text-align: right;\">22</td></tr><tr><td class = \"rowNumber\" style = \"font-weight: bold; text-align: right;\">3</td><td style = \"text-align: right;\">3</td><td style = \"text-align: left;\">Hello3</td><td style = \"text-align: right;\">8.5</td><td style = \"text-align: right;\">33</td></tr><tr><td class = \"rowNumber\" style = \"font-weight: bold; text-align: right;\">4</td><td style = \"text-align: right;\">4</td><td style = \"text-align: left;\">Hello4</td><td style = \"text-align: right;\">9.5</td><td style = \"font-style: italic; text-align: right;\">missing</td></tr><tr><td class = \"rowNumber\" style = \"font-weight: bold; text-align: right;\">5</td><td style = \"text-align: right;\">5</td><td style = \"text-align: left;\">Hello5</td><td style = \"text-align: right;\">10.5</td><td style = \"font-style: italic; text-align: right;\">missing</td></tr></tbody></table></div>"
      ],
      "text/latex": [
       "\\begin{tabular}{r|cccc}\n",
       "\t& a & b & c & d\\\\\n",
       "\t\\hline\n",
       "\t& Int64 & String & Float64 & Int64?\\\\\n",
       "\t\\hline\n",
       "\t1 & 1 & Hello1 & 6.5 & 11 \\\\\n",
       "\t2 & 2 & Hello2 & 7.5 & 22 \\\\\n",
       "\t3 & 3 & Hello3 & 8.5 & 33 \\\\\n",
       "\t4 & 4 & Hello4 & 9.5 & \\emph{missing} \\\\\n",
       "\t5 & 5 & Hello5 & 10.5 & \\emph{missing} \\\\\n",
       "\\end{tabular}\n"
      ],
      "text/plain": [
       "\u001b[1m5×4 DataFrame\u001b[0m\n",
       "\u001b[1m Row \u001b[0m│\u001b[1m a     \u001b[0m\u001b[1m b      \u001b[0m\u001b[1m c       \u001b[0m\u001b[1m d       \u001b[0m\n",
       "     │\u001b[90m Int64 \u001b[0m\u001b[90m String \u001b[0m\u001b[90m Float64 \u001b[0m\u001b[90m Int64?  \u001b[0m\n",
       "─────┼─────────────────────────────────\n",
       "   1 │     1  Hello1      6.5       11\n",
       "   2 │     2  Hello2      7.5       22\n",
       "   3 │     3  Hello3      8.5       33\n",
       "   4 │     4  Hello4      9.5 \u001b[90m missing \u001b[0m\n",
       "   5 │     5  Hello5     10.5 \u001b[90m missing \u001b[0m"
      ]
     },
     "execution_count": 18,
     "metadata": {},
     "output_type": "execute_result"
    }
   ],
   "source": [
    "using DataFrames\n",
    "df = DataFrame(a=1:5, b=string.(\"Hello\",1:5), c=6.5:10.5, d=[11,22,33,missing,missing] )"
   ]
  },
  {
   "cell_type": "code",
   "execution_count": 19,
   "metadata": {},
   "outputs": [
    {
     "data": {
      "text/plain": [
       "Vector{Union{Missing, Int64}}\u001b[90m (alias for \u001b[39m\u001b[90mArray{Union{Missing, Int64}, 1}\u001b[39m\u001b[90m)\u001b[39m"
      ]
     },
     "execution_count": 19,
     "metadata": {},
     "output_type": "execute_result"
    }
   ],
   "source": [
    "typeof(df.d)"
   ]
  },
  {
   "cell_type": "code",
   "execution_count": 20,
   "metadata": {},
   "outputs": [],
   "source": [
    "XLSX.writetable(joinpath(pwd(),\"df.xlsx\"), overwrite=true, \n",
    "    WORKSHEET_A=(collect(DataFrames.eachcol(df)), DataFrames.names(df)),\n",
    "    MYWS_B=(collect(DataFrames.eachcol(df)), DataFrames.names(df)),\n",
    ")\n",
    "# after comma new worksheets can be added tj. WORKSHEET_B=(collect(DataFrames.eachcol(df)), DataFrames.names(df)) itd."
   ]
  },
  {
   "cell_type": "code",
   "execution_count": 21,
   "metadata": {},
   "outputs": [
    {
     "data": {
      "text/plain": [
       "XLSX.DataTable(Any[[1, 2, 3, 4, 5], [\"Hello1\", \"Hello2\", \"Hello3\", \"Hello4\", \"Hello5\"], [6.5, 7.5, 8.5, 9.5, 10.5], Union{Missing, Int64}[11, 22, 33, missing, missing]], [:a, :b, :c, :d], Dict(:a => 1, :b => 2, :d => 4, :c => 3))"
      ]
     },
     "execution_count": 21,
     "metadata": {},
     "output_type": "execute_result"
    }
   ],
   "source": [
    "data2 = XLSX.readtable(joinpath(pwd(),\"df.xlsx\"),\"WORKSHEET_A\";infer_eltypes=true)"
   ]
  },
  {
   "cell_type": "code",
   "execution_count": 22,
   "metadata": {},
   "outputs": [
    {
     "data": {
      "text/html": [
       "<div><div style = \"float: left;\"><span>5×4 DataFrame</span></div><div style = \"clear: both;\"></div></div><div class = \"data-frame\" style = \"overflow-x: scroll;\"><table class = \"data-frame\" style = \"margin-bottom: 6px;\"><thead><tr class = \"header\"><th class = \"rowNumber\" style = \"font-weight: bold; text-align: right;\">Row</th><th style = \"text-align: left;\">a</th><th style = \"text-align: left;\">b</th><th style = \"text-align: left;\">c</th><th style = \"text-align: left;\">d</th></tr><tr class = \"subheader headerLastRow\"><th class = \"rowNumber\" style = \"font-weight: bold; text-align: right;\"></th><th title = \"Int64\" style = \"text-align: left;\">Int64</th><th title = \"String\" style = \"text-align: left;\">String</th><th title = \"Float64\" style = \"text-align: left;\">Float64</th><th title = \"Union{Missing, Int64}\" style = \"text-align: left;\">Int64?</th></tr></thead><tbody><tr><td class = \"rowNumber\" style = \"font-weight: bold; text-align: right;\">1</td><td style = \"text-align: right;\">1</td><td style = \"text-align: left;\">Hello1</td><td style = \"text-align: right;\">6.5</td><td style = \"text-align: right;\">11</td></tr><tr><td class = \"rowNumber\" style = \"font-weight: bold; text-align: right;\">2</td><td style = \"text-align: right;\">2</td><td style = \"text-align: left;\">Hello2</td><td style = \"text-align: right;\">7.5</td><td style = \"text-align: right;\">22</td></tr><tr><td class = \"rowNumber\" style = \"font-weight: bold; text-align: right;\">3</td><td style = \"text-align: right;\">3</td><td style = \"text-align: left;\">Hello3</td><td style = \"text-align: right;\">8.5</td><td style = \"text-align: right;\">33</td></tr><tr><td class = \"rowNumber\" style = \"font-weight: bold; text-align: right;\">4</td><td style = \"text-align: right;\">4</td><td style = \"text-align: left;\">Hello4</td><td style = \"text-align: right;\">9.5</td><td style = \"font-style: italic; text-align: right;\">missing</td></tr><tr><td class = \"rowNumber\" style = \"font-weight: bold; text-align: right;\">5</td><td style = \"text-align: right;\">5</td><td style = \"text-align: left;\">Hello5</td><td style = \"text-align: right;\">10.5</td><td style = \"font-style: italic; text-align: right;\">missing</td></tr></tbody></table></div>"
      ],
      "text/latex": [
       "\\begin{tabular}{r|cccc}\n",
       "\t& a & b & c & d\\\\\n",
       "\t\\hline\n",
       "\t& Int64 & String & Float64 & Int64?\\\\\n",
       "\t\\hline\n",
       "\t1 & 1 & Hello1 & 6.5 & 11 \\\\\n",
       "\t2 & 2 & Hello2 & 7.5 & 22 \\\\\n",
       "\t3 & 3 & Hello3 & 8.5 & 33 \\\\\n",
       "\t4 & 4 & Hello4 & 9.5 & \\emph{missing} \\\\\n",
       "\t5 & 5 & Hello5 & 10.5 & \\emph{missing} \\\\\n",
       "\\end{tabular}\n"
      ],
      "text/plain": [
       "\u001b[1m5×4 DataFrame\u001b[0m\n",
       "\u001b[1m Row \u001b[0m│\u001b[1m a     \u001b[0m\u001b[1m b      \u001b[0m\u001b[1m c       \u001b[0m\u001b[1m d       \u001b[0m\n",
       "     │\u001b[90m Int64 \u001b[0m\u001b[90m String \u001b[0m\u001b[90m Float64 \u001b[0m\u001b[90m Int64?  \u001b[0m\n",
       "─────┼─────────────────────────────────\n",
       "   1 │     1  Hello1      6.5       11\n",
       "   2 │     2  Hello2      7.5       22\n",
       "   3 │     3  Hello3      8.5       33\n",
       "   4 │     4  Hello4      9.5 \u001b[90m missing \u001b[0m\n",
       "   5 │     5  Hello5     10.5 \u001b[90m missing \u001b[0m"
      ]
     },
     "execution_count": 22,
     "metadata": {},
     "output_type": "execute_result"
    }
   ],
   "source": [
    "DataFrame(data2)"
   ]
  },
  {
   "cell_type": "code",
   "execution_count": 23,
   "metadata": {
    "scrolled": true
   },
   "outputs": [],
   "source": [
    "using HTTP\n",
    "response = HTTP.get(\"https://szufel.pl/pliki/plik.txt\");"
   ]
  },
  {
   "cell_type": "code",
   "execution_count": 24,
   "metadata": {},
   "outputs": [
    {
     "name": "stdout",
     "output_type": "stream",
     "text": [
      "response.status = 200\n"
     ]
    },
    {
     "data": {
      "text/plain": [
       "200"
      ]
     },
     "execution_count": 24,
     "metadata": {},
     "output_type": "execute_result"
    }
   ],
   "source": [
    "@show response.status\n"
   ]
  },
  {
   "cell_type": "code",
   "execution_count": 25,
   "metadata": {},
   "outputs": [
    {
     "data": {
      "text/plain": [
       "408-element Vector{UInt8}:\n",
       " 0x7b\n",
       " 0x0a\n",
       " 0x20\n",
       " 0x20\n",
       " 0x22\n",
       " 0x66\n",
       " 0x69\n",
       " 0x72\n",
       " 0x73\n",
       " 0x74\n",
       " 0x4e\n",
       " 0x61\n",
       " 0x6d\n",
       "    ⋮\n",
       " 0x65\n",
       " 0x22\n",
       " 0x3a\n",
       " 0x20\n",
       " 0x6e\n",
       " 0x75\n",
       " 0x6c\n",
       " 0x6c\n",
       " 0x0a\n",
       " 0x7d\n",
       " 0x0a\n",
       " 0x0a"
      ]
     },
     "execution_count": 25,
     "metadata": {},
     "output_type": "execute_result"
    }
   ],
   "source": [
    "response.body"
   ]
  },
  {
   "cell_type": "code",
   "execution_count": 26,
   "metadata": {},
   "outputs": [
    {
     "name": "stdout",
     "output_type": "stream",
     "text": [
      "{\n",
      "  \"firstName\": \"John\",\n",
      "  \"lastName\": \"Smith\",\n",
      "  \"isAlive\": true,\n",
      "  \"age\": 25,\n",
      "  \"address\": {\n",
      "    \"streetAddress\": \"21 2nd Street\",\n",
      "    \"city\": \"New York\",\n",
      "    \"state\": \"NY\",\n",
      "    \"postalCode\": \"10021-3100\"\n",
      "  },\n",
      "  \"phoneNumbers\": [\n",
      "    {\n",
      "      \"type\": \"home\",\n",
      "      \"number\": \"212 555-1234\"\n",
      "    },\n",
      "    {\n",
      "      \"type\": \"office\",\n",
      "      \"number\": \"646 555-4567\"\n",
      "    }\n",
      "  ],\n",
      "  \"children\": [],\n",
      "  \"spouse\": null\n",
      "}\n",
      "\n",
      "\n"
     ]
    }
   ],
   "source": [
    "data = String(response.body)\n",
    "println(data)"
   ]
  },
  {
   "cell_type": "code",
   "execution_count": 27,
   "metadata": {},
   "outputs": [
    {
     "data": {
      "text/plain": [
       "JSON3.Object{Base.CodeUnits{UInt8, String}, Vector{UInt64}} with 8 entries:\n",
       "  :firstName    => \"John\"\n",
       "  :lastName     => \"Smith\"\n",
       "  :isAlive      => true\n",
       "  :age          => 25\n",
       "  :address      => {…\n",
       "  :phoneNumbers => Object[{…\n",
       "  :children     => Union{}[]\n",
       "  :spouse       => nothing"
      ]
     },
     "execution_count": 27,
     "metadata": {},
     "output_type": "execute_result"
    }
   ],
   "source": [
    "using JSON3\n",
    "dat = JSON3.read(data)"
   ]
  },
  {
   "cell_type": "code",
   "execution_count": 28,
   "metadata": {},
   "outputs": [
    {
     "data": {
      "text/plain": [
       "JSON3.Object{Base.CodeUnits{UInt8, String}, SubArray{UInt64, 1, Vector{UInt64}, Tuple{UnitRange{Int64}}, true}} with 2 entries:\n",
       "  :type   => \"home\"\n",
       "  :number => \"212 555-1234\""
      ]
     },
     "execution_count": 28,
     "metadata": {},
     "output_type": "execute_result"
    }
   ],
   "source": [
    "#dat = Dict(JSON3.read(data))\n",
    "dat[:phoneNumbers][1]"
   ]
  },
  {
   "cell_type": "code",
   "execution_count": 29,
   "metadata": {},
   "outputs": [
    {
     "data": {
      "text/plain": [
       "JSON3.Object{Base.CodeUnits{UInt8, String}, SubArray{UInt64, 1, Vector{UInt64}, Tuple{UnitRange{Int64}}, true}} with 2 entries:\n",
       "  :type   => \"home\"\n",
       "  :number => \"212 555-1234\""
      ]
     },
     "execution_count": 29,
     "metadata": {},
     "output_type": "execute_result"
    }
   ],
   "source": [
    "dat[:phoneNumbers][1]"
   ]
  },
  {
   "cell_type": "code",
   "execution_count": 30,
   "metadata": {},
   "outputs": [
    {
     "data": {
      "text/plain": [
       "\"212 555-1234\""
      ]
     },
     "execution_count": 30,
     "metadata": {},
     "output_type": "execute_result"
    }
   ],
   "source": [
    "dat[:phoneNumbers][1][:number]"
   ]
  },
  {
   "cell_type": "code",
   "execution_count": 31,
   "metadata": {},
   "outputs": [
    {
     "name": "stdout",
     "output_type": "stream",
     "text": [
      "file_name = \"C:\\\\Users\\\\pszuf\\\\AppData\\\\Local\\\\Temp\\\\jl_ETyhopSDcJ.json\"\n"
     ]
    }
   ],
   "source": [
    "file_name = tempname()*\".json\"\n",
    "open(file_name,\"w\") do f\n",
    "    JSON3.write(f, dat)\n",
    "end\n",
    "@show file_name;"
   ]
  },
  {
   "cell_type": "code",
   "execution_count": 6,
   "metadata": {},
   "outputs": [
    {
     "data": {
      "text/html": [
       "<div><div style = \"float: left;\"><span>5×4 DataFrame</span></div><div style = \"clear: both;\"></div></div><div class = \"data-frame\" style = \"overflow-x: scroll;\"><table class = \"data-frame\" style = \"margin-bottom: 6px;\"><thead><tr class = \"header\"><th class = \"rowNumber\" style = \"font-weight: bold; text-align: right;\">Row</th><th style = \"text-align: left;\">a</th><th style = \"text-align: left;\">b</th><th style = \"text-align: left;\">c</th><th style = \"text-align: left;\">d</th></tr><tr class = \"subheader headerLastRow\"><th class = \"rowNumber\" style = \"font-weight: bold; text-align: right;\"></th><th title = \"Int64\" style = \"text-align: left;\">Int64</th><th title = \"Float64\" style = \"text-align: left;\">Float64</th><th title = \"Char\" style = \"text-align: left;\">Char</th><th title = \"String\" style = \"text-align: left;\">String</th></tr></thead><tbody><tr><td class = \"rowNumber\" style = \"font-weight: bold; text-align: right;\">1</td><td style = \"text-align: right;\">1</td><td style = \"text-align: right;\">0.175403</td><td style = \"text-align: left;\">a</td><td style = \"text-align: left;\">ylJq</td></tr><tr><td class = \"rowNumber\" style = \"font-weight: bold; text-align: right;\">2</td><td style = \"text-align: right;\">2</td><td style = \"text-align: right;\">0.282239</td><td style = \"text-align: left;\">b</td><td style = \"text-align: left;\">cRXL</td></tr><tr><td class = \"rowNumber\" style = \"font-weight: bold; text-align: right;\">3</td><td style = \"text-align: right;\">3</td><td style = \"text-align: right;\">0.808952</td><td style = \"text-align: left;\">c</td><td style = \"text-align: left;\">juEM</td></tr><tr><td class = \"rowNumber\" style = \"font-weight: bold; text-align: right;\">4</td><td style = \"text-align: right;\">4</td><td style = \"text-align: right;\">0.983031</td><td style = \"text-align: left;\">d</td><td style = \"text-align: left;\">eH4B</td></tr><tr><td class = \"rowNumber\" style = \"font-weight: bold; text-align: right;\">5</td><td style = \"text-align: right;\">5</td><td style = \"text-align: right;\">0.190268</td><td style = \"text-align: left;\">e</td><td style = \"text-align: left;\">YxD5</td></tr></tbody></table></div>"
      ],
      "text/latex": [
       "\\begin{tabular}{r|cccc}\n",
       "\t& a & b & c & d\\\\\n",
       "\t\\hline\n",
       "\t& Int64 & Float64 & Char & String\\\\\n",
       "\t\\hline\n",
       "\t1 & 1 & 0.175403 & a & ylJq \\\\\n",
       "\t2 & 2 & 0.282239 & b & cRXL \\\\\n",
       "\t3 & 3 & 0.808952 & c & juEM \\\\\n",
       "\t4 & 4 & 0.983031 & d & eH4B \\\\\n",
       "\t5 & 5 & 0.190268 & e & YxD5 \\\\\n",
       "\\end{tabular}\n"
      ],
      "text/plain": [
       "\u001b[1m5×4 DataFrame\u001b[0m\n",
       "\u001b[1m Row \u001b[0m│\u001b[1m a     \u001b[0m\u001b[1m b        \u001b[0m\u001b[1m c    \u001b[0m\u001b[1m d      \u001b[0m\n",
       "     │\u001b[90m Int64 \u001b[0m\u001b[90m Float64  \u001b[0m\u001b[90m Char \u001b[0m\u001b[90m String \u001b[0m\n",
       "─────┼───────────────────────────────\n",
       "   1 │     1  0.175403  a     ylJq\n",
       "   2 │     2  0.282239  b     cRXL\n",
       "   3 │     3  0.808952  c     juEM\n",
       "   4 │     4  0.983031  d     eH4B\n",
       "   5 │     5  0.190268  e     YxD5"
      ]
     },
     "execution_count": 6,
     "metadata": {},
     "output_type": "execute_result"
    }
   ],
   "source": [
    "using Arrow, DataFrames, Random\n",
    "df = DataFrame(a=1:5, b=rand(5), c='a':'e', d=[randstring(4) for _ in 1:5])"
   ]
  },
  {
   "cell_type": "code",
   "execution_count": 7,
   "metadata": {},
   "outputs": [
    {
     "data": {
      "text/plain": [
       "\"mytbl.arrow\""
      ]
     },
     "execution_count": 7,
     "metadata": {},
     "output_type": "execute_result"
    }
   ],
   "source": [
    "Arrow.write(\"mytbl.arrow\", df)"
   ]
  },
  {
   "cell_type": "code",
   "execution_count": 10,
   "metadata": {},
   "outputs": [
    {
     "data": {
      "text/plain": [
       "Arrow.Table with 5 rows, 4 columns, and schema:\n",
       " :a  Int64\n",
       " :b  Float64\n",
       " :c  Char\n",
       " :d  String"
      ]
     },
     "execution_count": 10,
     "metadata": {},
     "output_type": "execute_result"
    }
   ],
   "source": [
    "table = Arrow.Table(\"mytbl.arrow\")"
   ]
  },
  {
   "cell_type": "code",
   "execution_count": 11,
   "metadata": {},
   "outputs": [
    {
     "data": {
      "text/html": [
       "<div><div style = \"float: left;\"><span>5×4 DataFrame</span></div><div style = \"clear: both;\"></div></div><div class = \"data-frame\" style = \"overflow-x: scroll;\"><table class = \"data-frame\" style = \"margin-bottom: 6px;\"><thead><tr class = \"header\"><th class = \"rowNumber\" style = \"font-weight: bold; text-align: right;\">Row</th><th style = \"text-align: left;\">a</th><th style = \"text-align: left;\">b</th><th style = \"text-align: left;\">c</th><th style = \"text-align: left;\">d</th></tr><tr class = \"subheader headerLastRow\"><th class = \"rowNumber\" style = \"font-weight: bold; text-align: right;\"></th><th title = \"Int64\" style = \"text-align: left;\">Int64</th><th title = \"Float64\" style = \"text-align: left;\">Float64</th><th title = \"Char\" style = \"text-align: left;\">Char</th><th title = \"String\" style = \"text-align: left;\">String</th></tr></thead><tbody><tr><td class = \"rowNumber\" style = \"font-weight: bold; text-align: right;\">1</td><td style = \"text-align: right;\">1</td><td style = \"text-align: right;\">0.175403</td><td style = \"text-align: left;\">a</td><td style = \"text-align: left;\">ylJq</td></tr><tr><td class = \"rowNumber\" style = \"font-weight: bold; text-align: right;\">2</td><td style = \"text-align: right;\">2</td><td style = \"text-align: right;\">0.282239</td><td style = \"text-align: left;\">b</td><td style = \"text-align: left;\">cRXL</td></tr><tr><td class = \"rowNumber\" style = \"font-weight: bold; text-align: right;\">3</td><td style = \"text-align: right;\">3</td><td style = \"text-align: right;\">0.808952</td><td style = \"text-align: left;\">c</td><td style = \"text-align: left;\">juEM</td></tr><tr><td class = \"rowNumber\" style = \"font-weight: bold; text-align: right;\">4</td><td style = \"text-align: right;\">4</td><td style = \"text-align: right;\">0.983031</td><td style = \"text-align: left;\">d</td><td style = \"text-align: left;\">eH4B</td></tr><tr><td class = \"rowNumber\" style = \"font-weight: bold; text-align: right;\">5</td><td style = \"text-align: right;\">5</td><td style = \"text-align: right;\">0.190268</td><td style = \"text-align: left;\">e</td><td style = \"text-align: left;\">YxD5</td></tr></tbody></table></div>"
      ],
      "text/latex": [
       "\\begin{tabular}{r|cccc}\n",
       "\t& a & b & c & d\\\\\n",
       "\t\\hline\n",
       "\t& Int64 & Float64 & Char & String\\\\\n",
       "\t\\hline\n",
       "\t1 & 1 & 0.175403 & a & ylJq \\\\\n",
       "\t2 & 2 & 0.282239 & b & cRXL \\\\\n",
       "\t3 & 3 & 0.808952 & c & juEM \\\\\n",
       "\t4 & 4 & 0.983031 & d & eH4B \\\\\n",
       "\t5 & 5 & 0.190268 & e & YxD5 \\\\\n",
       "\\end{tabular}\n"
      ],
      "text/plain": [
       "\u001b[1m5×4 DataFrame\u001b[0m\n",
       "\u001b[1m Row \u001b[0m│\u001b[1m a     \u001b[0m\u001b[1m b        \u001b[0m\u001b[1m c    \u001b[0m\u001b[1m d      \u001b[0m\n",
       "     │\u001b[90m Int64 \u001b[0m\u001b[90m Float64  \u001b[0m\u001b[90m Char \u001b[0m\u001b[90m String \u001b[0m\n",
       "─────┼───────────────────────────────\n",
       "   1 │     1  0.175403  a     ylJq\n",
       "   2 │     2  0.282239  b     cRXL\n",
       "   3 │     3  0.808952  c     juEM\n",
       "   4 │     4  0.983031  d     eH4B\n",
       "   5 │     5  0.190268  e     YxD5"
      ]
     },
     "execution_count": 11,
     "metadata": {},
     "output_type": "execute_result"
    }
   ],
   "source": [
    "df2 = DataFrame(table)"
   ]
  },
  {
   "cell_type": "code",
   "execution_count": 13,
   "metadata": {},
   "outputs": [
    {
     "name": "stdout",
     "output_type": "stream",
     "text": [
      "ReadOnlyMemoryError()\n"
     ]
    }
   ],
   "source": [
    "try \n",
    "    df2[1, :a] = 11\n",
    "catch ex\n",
    "    println(ex)\n",
    "end"
   ]
  }
 ],
 "metadata": {
  "kernelspec": {
   "display_name": "Julia 1.10.2",
   "language": "julia",
   "name": "julia-1.10"
  },
  "language_info": {
   "file_extension": ".jl",
   "mimetype": "application/julia",
   "name": "julia",
   "version": "1.10.2"
  }
 },
 "nbformat": 4,
 "nbformat_minor": 4
}
