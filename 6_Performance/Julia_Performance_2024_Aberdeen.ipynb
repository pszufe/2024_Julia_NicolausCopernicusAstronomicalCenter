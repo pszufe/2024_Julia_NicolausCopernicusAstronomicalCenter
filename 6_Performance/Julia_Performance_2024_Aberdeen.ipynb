{
 "cells": [
  {
   "cell_type": "markdown",
   "id": "e4e18dfa",
   "metadata": {},
   "source": [
    "# Optimizing performance of Julia code\n",
    "Przemysław Szufel\n",
    "\n",
    "<a class=\"anchor\" id=\"toc\"></a>\n",
    "## Table of content\n",
    "\n",
    "1. [Avoid global variables](#globals)\n",
    "2. [Avoid abstract lists and structs](#lists)\n",
    "3. [Do not change the type of a variable within a function](#fvariable)\n",
    "4. [Mitigate type uncertainty with barrier functions](#barrier)\n",
    "5. [Remember about column-major layout of matrices](#column)\n",
    "6. [Prealocate, use views, vectorize](#views)\n",
    "7. [Check type stability with the `@code_warntype` macro](#warntype)\n",
    "    \n"
   ]
  },
  {
   "cell_type": "markdown",
   "id": "868e74c2-5055-41f6-8843-616a79e695b1",
   "metadata": {},
   "source": [
    "<p style=\"font-size:8pt\">\n",
    "    Reference: several examples below are inspired by\n",
    "https://docs.julialang.org/en/v1/manual/performance-tips/\n",
    " </p>"
   ]
  },
  {
   "cell_type": "markdown",
   "id": "0331ef75",
   "metadata": {},
   "source": [
    "<a class=\"anchor\" id=\"globals\"></a>\n",
    "### Avoid global variables\n",
    "---- [Return to table of contents](#toc) ---"
   ]
  },
  {
   "cell_type": "code",
   "execution_count": 2,
   "id": "fba631ad-a696-4eb5-8a5c-6e574f2abaf0",
   "metadata": {
    "scrolled": true,
    "tags": []
   },
   "outputs": [
    {
     "name": "stdout",
     "output_type": "stream",
     "text": [
      "  0.004230 seconds (39.49 k allocations: 773.281 KiB)\n",
      "  0.003697 seconds (39.49 k allocations: 773.281 KiB)\n",
      "  0.024790 seconds (2.10 k allocations: 136.422 KiB, 99.76% compilation time)\n",
      "  0.000023 seconds (1 allocation: 16 bytes)\n",
      "  0.000021 seconds\n",
      "  0.000026 seconds\n"
     ]
    },
    {
     "data": {
      "text/plain": [
       "5028.336015998785"
      ]
     },
     "execution_count": 2,
     "metadata": {},
     "output_type": "execute_result"
    }
   ],
   "source": [
    "x = rand(10_000)  #global\n",
    "\n",
    "function loop_over_global()\n",
    "    s = 0.0\n",
    "    for i in x\n",
    "        s += i\n",
    "    end\n",
    "    return s\n",
    "end\n",
    "\n",
    "function loop_over_x(x)\n",
    "    s = 0.0\n",
    "    for i in x\n",
    "        s += i\n",
    "    end\n",
    "    return s\n",
    "end\n",
    "\n",
    "function loop_over_global_type_assert()\n",
    "    s = 0.0\n",
    "    for i in x::Vector{Float64}\n",
    "        s += i\n",
    "    end\n",
    "    return s\n",
    "end\n",
    "\n",
    "@time loop_over_global()\n",
    "@time loop_over_global()\n",
    "@time loop_over_x(x)\n",
    "@time loop_over_x(x)\n",
    "@time loop_over_global_type_assert()\n",
    "@time loop_over_global_type_assert()"
   ]
  },
  {
   "cell_type": "code",
   "execution_count": 2,
   "id": "8767b875-f86e-4ce4-96ea-69ab99f122f7",
   "metadata": {},
   "outputs": [
    {
     "name": "stdout",
     "output_type": "stream",
     "text": [
      "  0.000028 seconds\n",
      "  0.000017 seconds\n"
     ]
    },
    {
     "data": {
      "text/plain": [
       "4998.554629564902"
      ]
     },
     "execution_count": 2,
     "metadata": {},
     "output_type": "execute_result"
    }
   ],
   "source": [
    "@time loop_over_global_type_assert()\n",
    "@time loop_over_global_type_assert()"
   ]
  },
  {
   "cell_type": "code",
   "execution_count": 4,
   "id": "8abb6fcd-a936-4462-8d99-770fac8832d7",
   "metadata": {
    "tags": []
   },
   "outputs": [
    {
     "name": "stdout",
     "output_type": "stream",
     "text": [
      "  748.500 μs (39490 allocations: 773.28 KiB)\n",
      "  6.220 μs (0 allocations: 0 bytes)\n"
     ]
    },
    {
     "data": {
      "text/plain": [
       "5028.336015998785"
      ]
     },
     "execution_count": 4,
     "metadata": {},
     "output_type": "execute_result"
    }
   ],
   "source": [
    "using BenchmarkTools\n",
    "BenchmarkTools.@btime  loop_over_global()\n",
    "@btime loop_over_x($x)"
   ]
  },
  {
   "cell_type": "code",
   "execution_count": 5,
   "id": "62ac8143-6f3f-457a-81ba-9373dd520793",
   "metadata": {},
   "outputs": [
    {
     "data": {
      "text/plain": [
       "BenchmarkTools.Trial: 2879 samples with 1 evaluation.\n",
       " Range \u001b[90m(\u001b[39m\u001b[36m\u001b[1mmin\u001b[22m\u001b[39m … \u001b[35mmax\u001b[39m\u001b[90m):  \u001b[39m\u001b[36m\u001b[1m739.500 μs\u001b[22m\u001b[39m … \u001b[35m28.563 ms\u001b[39m  \u001b[90m┊\u001b[39m GC \u001b[90m(\u001b[39mmin … max\u001b[90m): \u001b[39m0.00% … 0.00%\n",
       " Time  \u001b[90m(\u001b[39m\u001b[34m\u001b[1mmedian\u001b[22m\u001b[39m\u001b[90m):     \u001b[39m\u001b[34m\u001b[1m  1.593 ms              \u001b[22m\u001b[39m\u001b[90m┊\u001b[39m GC \u001b[90m(\u001b[39mmedian\u001b[90m):    \u001b[39m0.00%\n",
       " Time  \u001b[90m(\u001b[39m\u001b[32m\u001b[1mmean\u001b[22m\u001b[39m ± \u001b[32mσ\u001b[39m\u001b[90m):   \u001b[39m\u001b[32m\u001b[1m  1.719 ms\u001b[22m\u001b[39m ± \u001b[32m 1.066 ms\u001b[39m  \u001b[90m┊\u001b[39m GC \u001b[90m(\u001b[39mmean ± σ\u001b[90m):  \u001b[39m1.90% ± 6.86%\n",
       "\n",
       "  \u001b[39m \u001b[39m \u001b[39m▂\u001b[39m▂\u001b[39m▄\u001b[39m▅\u001b[39m▆\u001b[39m▇\u001b[39m▆\u001b[39m▆\u001b[39m▆\u001b[39m▆\u001b[39m▆\u001b[39m▆\u001b[34m▇\u001b[39m\u001b[39m█\u001b[32m▇\u001b[39m\u001b[39m▄\u001b[39m▄\u001b[39m▂\u001b[39m▂\u001b[39m▁\u001b[39m \u001b[39m▁\u001b[39m \u001b[39m \u001b[39m \u001b[39m▁\u001b[39m \u001b[39m \u001b[39m \u001b[39m \u001b[39m \u001b[39m \u001b[39m \u001b[39m \u001b[39m \u001b[39m \u001b[39m \u001b[39m \u001b[39m \u001b[39m \u001b[39m \u001b[39m \u001b[39m \u001b[39m \u001b[39m \u001b[39m \u001b[39m \u001b[39m \u001b[39m \u001b[39m \u001b[39m \u001b[39m \u001b[39m \u001b[39m \u001b[39m \u001b[39m \u001b[39m \u001b[39m \u001b[39m \u001b[39m▂\n",
       "  \u001b[39m█\u001b[39m█\u001b[39m█\u001b[39m█\u001b[39m█\u001b[39m█\u001b[39m█\u001b[39m█\u001b[39m█\u001b[39m█\u001b[39m█\u001b[39m█\u001b[39m█\u001b[39m█\u001b[34m█\u001b[39m\u001b[39m█\u001b[32m█\u001b[39m\u001b[39m█\u001b[39m█\u001b[39m█\u001b[39m█\u001b[39m█\u001b[39m█\u001b[39m█\u001b[39m█\u001b[39m█\u001b[39m█\u001b[39m█\u001b[39m█\u001b[39m█\u001b[39m█\u001b[39m█\u001b[39m█\u001b[39m▇\u001b[39m█\u001b[39m█\u001b[39m█\u001b[39m▇\u001b[39m█\u001b[39m█\u001b[39m▇\u001b[39m▇\u001b[39m█\u001b[39m▇\u001b[39m▇\u001b[39m▆\u001b[39m▇\u001b[39m▇\u001b[39m▆\u001b[39m▇\u001b[39m▆\u001b[39m▇\u001b[39m▅\u001b[39m▅\u001b[39m▄\u001b[39m▆\u001b[39m▄\u001b[39m▄\u001b[39m▁\u001b[39m▅\u001b[39m \u001b[39m█\n",
       "  740 μs\u001b[90m        \u001b[39m\u001b[90mHistogram: \u001b[39m\u001b[90m\u001b[1mlog(\u001b[22m\u001b[39m\u001b[90mfrequency\u001b[39m\u001b[90m\u001b[1m)\u001b[22m\u001b[39m\u001b[90m by time\u001b[39m      4.44 ms \u001b[0m\u001b[1m<\u001b[22m\n",
       "\n",
       " Memory estimate\u001b[90m: \u001b[39m\u001b[33m773.28 KiB\u001b[39m, allocs estimate\u001b[90m: \u001b[39m\u001b[33m39490\u001b[39m."
      ]
     },
     "execution_count": 5,
     "metadata": {},
     "output_type": "execute_result"
    }
   ],
   "source": [
    "BenchmarkTools.@benchmark loop_over_global()"
   ]
  },
  {
   "cell_type": "code",
   "execution_count": 6,
   "id": "a036bc8f-e935-4334-9f29-71af9dd81111",
   "metadata": {},
   "outputs": [
    {
     "data": {
      "text/plain": [
       "BenchmarkTools.Trial: 10000 samples with 8 evaluations.\n",
       " Range \u001b[90m(\u001b[39m\u001b[36m\u001b[1mmin\u001b[22m\u001b[39m … \u001b[35mmax\u001b[39m\u001b[90m):  \u001b[39m\u001b[36m\u001b[1m 3.975 μs\u001b[22m\u001b[39m … \u001b[35m46.600 μs\u001b[39m  \u001b[90m┊\u001b[39m GC \u001b[90m(\u001b[39mmin … max\u001b[90m): \u001b[39m0.00% … 0.00%\n",
       " Time  \u001b[90m(\u001b[39m\u001b[34m\u001b[1mmedian\u001b[22m\u001b[39m\u001b[90m):     \u001b[39m\u001b[34m\u001b[1m11.537 μs              \u001b[22m\u001b[39m\u001b[90m┊\u001b[39m GC \u001b[90m(\u001b[39mmedian\u001b[90m):    \u001b[39m0.00%\n",
       " Time  \u001b[90m(\u001b[39m\u001b[32m\u001b[1mmean\u001b[22m\u001b[39m ± \u001b[32mσ\u001b[39m\u001b[90m):   \u001b[39m\u001b[32m\u001b[1m 9.509 μs\u001b[22m\u001b[39m ± \u001b[32m 3.873 μs\u001b[39m  \u001b[90m┊\u001b[39m GC \u001b[90m(\u001b[39mmean ± σ\u001b[90m):  \u001b[39m0.00% ± 0.00%\n",
       "\n",
       "  \u001b[39m▄\u001b[39m▂\u001b[39m \u001b[39m \u001b[39m▇\u001b[39m▄\u001b[39m▂\u001b[39m \u001b[39m▂\u001b[39m▁\u001b[39m \u001b[39m \u001b[39m \u001b[39m \u001b[39m▁\u001b[39m▁\u001b[39m▃\u001b[39m▃\u001b[39m▁\u001b[39m \u001b[39m▃\u001b[39m \u001b[32m▁\u001b[39m\u001b[39m \u001b[39m \u001b[39m \u001b[39m \u001b[39m \u001b[39m \u001b[39m \u001b[34m█\u001b[39m\u001b[39m \u001b[39m▃\u001b[39m \u001b[39m▂\u001b[39m \u001b[39m▂\u001b[39m \u001b[39m▅\u001b[39m \u001b[39m \u001b[39m▃\u001b[39m \u001b[39m \u001b[39m▃\u001b[39m \u001b[39m \u001b[39m▃\u001b[39m \u001b[39m \u001b[39m \u001b[39m \u001b[39m \u001b[39m \u001b[39m \u001b[39m \u001b[39m \u001b[39m \u001b[39m \u001b[39m \u001b[39m▂\n",
       "  \u001b[39m█\u001b[39m█\u001b[39m▇\u001b[39m█\u001b[39m█\u001b[39m█\u001b[39m█\u001b[39m█\u001b[39m█\u001b[39m█\u001b[39m▆\u001b[39m█\u001b[39m█\u001b[39m▇\u001b[39m█\u001b[39m█\u001b[39m█\u001b[39m█\u001b[39m█\u001b[39m▆\u001b[39m█\u001b[39m▇\u001b[32m█\u001b[39m\u001b[39m▇\u001b[39m▅\u001b[39m▅\u001b[39m▇\u001b[39m▆\u001b[39m▅\u001b[39m▅\u001b[34m█\u001b[39m\u001b[39m█\u001b[39m█\u001b[39m█\u001b[39m█\u001b[39m▇\u001b[39m█\u001b[39m▇\u001b[39m█\u001b[39m▇\u001b[39m▇\u001b[39m█\u001b[39m▆\u001b[39m█\u001b[39m█\u001b[39m▄\u001b[39m▆\u001b[39m█\u001b[39m▃\u001b[39m▅\u001b[39m▆\u001b[39m▃\u001b[39m▁\u001b[39m▄\u001b[39m▅\u001b[39m▁\u001b[39m▄\u001b[39m▃\u001b[39m▆\u001b[39m \u001b[39m█\n",
       "  3.98 μs\u001b[90m      \u001b[39m\u001b[90mHistogram: \u001b[39m\u001b[90m\u001b[1mlog(\u001b[22m\u001b[39m\u001b[90mfrequency\u001b[39m\u001b[90m\u001b[1m)\u001b[22m\u001b[39m\u001b[90m by time\u001b[39m      18.8 μs \u001b[0m\u001b[1m<\u001b[22m\n",
       "\n",
       " Memory estimate\u001b[90m: \u001b[39m\u001b[33m0 bytes\u001b[39m, allocs estimate\u001b[90m: \u001b[39m\u001b[33m0\u001b[39m."
      ]
     },
     "execution_count": 6,
     "metadata": {},
     "output_type": "execute_result"
    }
   ],
   "source": [
    "BenchmarkTools.@benchmark loop_over_x($x)"
   ]
  },
  {
   "cell_type": "code",
   "execution_count": 6,
   "id": "4de9f913-faed-47ca-a753-2abc007f2132",
   "metadata": {},
   "outputs": [
    {
     "name": "stdout",
     "output_type": "stream",
     "text": [
      "  6.220 μs (0 allocations: 0 bytes)\n"
     ]
    },
    {
     "data": {
      "text/plain": [
       "5028.336015998785"
      ]
     },
     "execution_count": 6,
     "metadata": {},
     "output_type": "execute_result"
    }
   ],
   "source": [
    "const zzz = x\n",
    "function loop_over_global_zz()\n",
    "    s = 0.0\n",
    "    for i in zzz  \n",
    "        s += i\n",
    "    end\n",
    "    return s\n",
    "end\n",
    "\n",
    "@btime loop_over_global_zz()"
   ]
  },
  {
   "cell_type": "markdown",
   "id": "a700043b",
   "metadata": {},
   "source": [
    "<a class=\"anchor\" id=\"lists\"></a>\n",
    "### Avoid abstract lists and  structs\n",
    "---- [Return to table of contents](#toc) ---"
   ]
  },
  {
   "cell_type": "code",
   "execution_count": 8,
   "id": "8e1418e0-656c-4c3d-a4b9-1b1b0eb33273",
   "metadata": {},
   "outputs": [
    {
     "data": {
      "text/plain": [
       "Union{Missing, Float64}[]"
      ]
     },
     "execution_count": 8,
     "metadata": {},
     "output_type": "execute_result"
    }
   ],
   "source": [
    "# do not use abstract lists\n",
    "function addelems_and_sum(arr::AbstractVector)\n",
    "    for i in 1.0:100.0\n",
    "        push!(arr,i)\n",
    "    end\n",
    "    sum(arr)\n",
    "end\n",
    "myarr = [] # DO NOT DO IT!  Any[]\n",
    "myarr1 = Real[]  # DO NOT DO IT !\n",
    "myarr2 = Float64[] # Correct\n",
    "myarr3 = Union{Float64, ComplexF32}[]# If you really need this type flexibility use small unions\n",
    "myarr4 = Union{Float64, Missing}[]\n",
    "\n",
    "\n"
   ]
  },
  {
   "cell_type": "code",
   "execution_count": 9,
   "id": "025b9168-4398-4b39-a0e2-76882ef27e99",
   "metadata": {
    "scrolled": true
   },
   "outputs": [
    {
     "name": "stdout",
     "output_type": "stream",
     "text": [
      "  5.038 ms (148899 allocations: 2.27 MiB)\n",
      "  4.853 ms (143499 allocations: 2.19 MiB)\n",
      "  870.430 μs (0 allocations: 0 bytes)\n",
      "  1.184 ms (1023 allocations: 15.98 KiB)\n",
      "  1.193 ms (0 allocations: 0 bytes)\n"
     ]
    },
    {
     "data": {
      "text/plain": [
       "2.06949e7"
      ]
     },
     "execution_count": 9,
     "metadata": {},
     "output_type": "execute_result"
    }
   ],
   "source": [
    "@btime addelems_and_sum($([]))\n",
    "@btime addelems_and_sum($(Real[]))\n",
    "@btime addelems_and_sum($(Float64[]))\n",
    "@btime addelems_and_sum($(Union{Float64, ComplexF32}[]))\n",
    "@btime addelems_and_sum($(Union{Float64, Missing}[]))"
   ]
  },
  {
   "cell_type": "code",
   "execution_count": 11,
   "id": "51d6e298-06e2-489f-8313-4faa259f1ce2",
   "metadata": {},
   "outputs": [
    {
     "name": "stdout",
     "output_type": "stream",
     "text": [
      "MethodInstance for addelems_and_sum(::Vector{Real})\n",
      "  from addelems_and_sum(\u001b[90marr\u001b[39m::\u001b[1mAbstractVector\u001b[22m)\u001b[90m @\u001b[39m \u001b[90mMain\u001b[39m \u001b[90m\u001b[4mIn[8]:2\u001b[24m\u001b[39m\n",
      "Arguments\n",
      "  #self#\u001b[36m::Core.Const(addelems_and_sum)\u001b[39m\n",
      "  arr\u001b[36m::Vector{Real}\u001b[39m\n",
      "Locals\n",
      "  @_3\u001b[33m\u001b[1m::Union{Nothing, Tuple{Float64, Int64}}\u001b[22m\u001b[39m\n",
      "  i\u001b[36m::Float64\u001b[39m\n",
      "Body\u001b[91m\u001b[1m::Real\u001b[22m\u001b[39m\n",
      "\u001b[90m1 ─\u001b[39m %1  = (1.0:100.0)\u001b[36m::Core.Const(1.0:1.0:100.0)\u001b[39m\n",
      "\u001b[90m│  \u001b[39m       (@_3 = Base.iterate(%1))\n",
      "\u001b[90m│  \u001b[39m %3  = (@_3::Core.Const((1.0, 1)) === nothing)\u001b[36m::Core.Const(false)\u001b[39m\n",
      "\u001b[90m│  \u001b[39m %4  = Base.not_int(%3)\u001b[36m::Core.Const(true)\u001b[39m\n",
      "\u001b[90m└──\u001b[39m       goto #4 if not %4\n",
      "\u001b[90m2 ┄\u001b[39m %6  = @_3\u001b[36m::Tuple{Float64, Int64}\u001b[39m\n",
      "\u001b[90m│  \u001b[39m       (i = Core.getfield(%6, 1))\n",
      "\u001b[90m│  \u001b[39m %8  = Core.getfield(%6, 2)\u001b[36m::Int64\u001b[39m\n",
      "\u001b[90m│  \u001b[39m       Main.push!(arr, i)\n",
      "\u001b[90m│  \u001b[39m       (@_3 = Base.iterate(%1, %8))\n",
      "\u001b[90m│  \u001b[39m %11 = (@_3 === nothing)\u001b[36m::Bool\u001b[39m\n",
      "\u001b[90m│  \u001b[39m %12 = Base.not_int(%11)\u001b[36m::Bool\u001b[39m\n",
      "\u001b[90m└──\u001b[39m       goto #4 if not %12\n",
      "\u001b[90m3 ─\u001b[39m       goto #2\n",
      "\u001b[90m4 ┄\u001b[39m %15 = Main.sum(arr)\u001b[91m\u001b[1m::Real\u001b[22m\u001b[39m\n",
      "\u001b[90m└──\u001b[39m       return %15\n",
      "\n"
     ]
    }
   ],
   "source": [
    "x = Real[]\n",
    "@code_warntype addelems_and_sum(x)"
   ]
  },
  {
   "cell_type": "code",
   "execution_count": 28,
   "id": "6a67ef74-bc55-46a5-8e5f-bf7066ab3437",
   "metadata": {},
   "outputs": [
    {
     "name": "stdout",
     "output_type": "stream",
     "text": [
      "  203.500 μs (10000 allocations: 156.25 KiB)\n",
      "  6.220 μs (0 allocations: 0 bytes)\n"
     ]
    },
    {
     "data": {
      "text/plain": [
       "5.0005e7"
      ]
     },
     "execution_count": 28,
     "metadata": {},
     "output_type": "execute_result"
    }
   ],
   "source": [
    "#do not create data structures with undefined types (abstract containers)\n",
    "struct MyAmbiguousType\n",
    "    a\n",
    "end\n",
    "struct MyNonambiguousType\n",
    "    a::Float64\n",
    "end\n",
    "function sumarr2(arr)\n",
    "    res = 0.0\n",
    "    for e in arr\n",
    "        res += e.a\n",
    "    end\n",
    "    res\n",
    "end\n",
    "tt1 = MyAmbiguousType.(1.:10000.)\n",
    "tt2 = MyNonambiguousType.(1.:10000.)\n",
    "\n",
    "@btime sumarr2($tt1)\n",
    "@btime sumarr2($tt2)"
   ]
  },
  {
   "cell_type": "code",
   "execution_count": 32,
   "id": "adcc898a-a563-4fe2-874c-9227d5ce4d88",
   "metadata": {},
   "outputs": [
    {
     "name": "stdout",
     "output_type": "stream",
     "text": [
      "  16.300 μs (0 allocations: 0 bytes)\n"
     ]
    },
    {
     "data": {
      "text/plain": [
       "5.0005e7 + 0.0im"
      ]
     },
     "execution_count": 32,
     "metadata": {},
     "output_type": "execute_result"
    }
   ],
   "source": [
    "struct MyParametrizedType4{T <: Number}  \n",
    "    a::Union{T, Missing}\n",
    "end\n",
    "tt_p = MyParametrizedType3{ComplexF64}.(ComplexF64.(1.0:10_000.0, 0.0))\n",
    "@btime sumarr2($tt_p)\n"
   ]
  },
  {
   "cell_type": "code",
   "execution_count": 30,
   "id": "f931d1bf-f822-4635-bd7b-c81d02939f8f",
   "metadata": {},
   "outputs": [
    {
     "data": {
      "text/plain": [
       "Val{:bc}"
      ]
     },
     "execution_count": 30,
     "metadata": {},
     "output_type": "execute_result"
    }
   ],
   "source": [
    "Val{:bc}"
   ]
  },
  {
   "cell_type": "code",
   "execution_count": 31,
   "id": "e813fc35-2c3d-4985-b924-01e5848ab66f",
   "metadata": {},
   "outputs": [
    {
     "data": {
      "text/plain": [
       "1000-element Vector{MyParametrizedType{Union{Missing, Float64}}}:\n",
       " MyParametrizedType{Union{Missing, Float64}}(1.0)\n",
       " MyParametrizedType{Union{Missing, Float64}}(2.0)\n",
       " MyParametrizedType{Union{Missing, Float64}}(3.0)\n",
       " MyParametrizedType{Union{Missing, Float64}}(4.0)\n",
       " MyParametrizedType{Union{Missing, Float64}}(5.0)\n",
       " MyParametrizedType{Union{Missing, Float64}}(6.0)\n",
       " MyParametrizedType{Union{Missing, Float64}}(7.0)\n",
       " MyParametrizedType{Union{Missing, Float64}}(8.0)\n",
       " MyParametrizedType{Union{Missing, Float64}}(9.0)\n",
       " MyParametrizedType{Union{Missing, Float64}}(10.0)\n",
       " MyParametrizedType{Union{Missing, Float64}}(11.0)\n",
       " MyParametrizedType{Union{Missing, Float64}}(12.0)\n",
       " MyParametrizedType{Union{Missing, Float64}}(13.0)\n",
       " ⋮\n",
       " MyParametrizedType{Union{Missing, Float64}}(989.0)\n",
       " MyParametrizedType{Union{Missing, Float64}}(990.0)\n",
       " MyParametrizedType{Union{Missing, Float64}}(991.0)\n",
       " MyParametrizedType{Union{Missing, Float64}}(992.0)\n",
       " MyParametrizedType{Union{Missing, Float64}}(993.0)\n",
       " MyParametrizedType{Union{Missing, Float64}}(994.0)\n",
       " MyParametrizedType{Union{Missing, Float64}}(995.0)\n",
       " MyParametrizedType{Union{Missing, Float64}}(996.0)\n",
       " MyParametrizedType{Union{Missing, Float64}}(997.0)\n",
       " MyParametrizedType{Union{Missing, Float64}}(998.0)\n",
       " MyParametrizedType{Union{Missing, Float64}}(999.0)\n",
       " MyParametrizedType{Union{Missing, Float64}}(1000.0)"
      ]
     },
     "execution_count": 31,
     "metadata": {},
     "output_type": "execute_result"
    }
   ],
   "source": [
    "tt_miss = MyParametrizedType{Union{Float64, Missing}}.(1.0:1000.0)\n"
   ]
  },
  {
   "cell_type": "code",
   "execution_count": 11,
   "id": "f4c2ae51-08c6-4327-91cc-14044eac5eb8",
   "metadata": {},
   "outputs": [
    {
     "name": "stdout",
     "output_type": "stream",
     "text": [
      "  2.000 ns (0 allocations: 0 bytes)\n",
      "  610.857 ns (0 allocations: 0 bytes)\n"
     ]
    }
   ],
   "source": [
    "@btime sumarr($tt_p) # parametrized\n",
    "@btime sumarr($tt_miss)  # parametrized allowing missings"
   ]
  },
  {
   "cell_type": "markdown",
   "id": "2f257f2a",
   "metadata": {},
   "source": [
    "<a class=\"anchor\" id=\"fvariable\"></a>\n",
    "### Do not change the type of a variable within a function\n",
    "---- [Return to table of contents](#toc) ---"
   ]
  },
  {
   "cell_type": "code",
   "execution_count": 33,
   "id": "11bfeb8d-48bd-4a87-9f19-7cf8a9fe4b87",
   "metadata": {},
   "outputs": [
    {
     "name": "stdout",
     "output_type": "stream",
     "text": [
      "  5.567 μs (0 allocations: 0 bytes)\n",
      "  4.186 μs (0 allocations: 0 bytes)\n"
     ]
    },
    {
     "data": {
      "text/plain": [
       "0.0"
      ]
     },
     "execution_count": 33,
     "metadata": {},
     "output_type": "execute_result"
    }
   ],
   "source": [
    "function foo()\n",
    "    x = 1   # Int\n",
    "    for i = 1:1_000\n",
    "        x /= i\n",
    "    end\n",
    "    return x\n",
    "end\n",
    "\n",
    "function foo2()\n",
    "    x = 1.0  #Float64\n",
    "    for i = 1:1_000\n",
    "        x /= i\n",
    "    end\n",
    "    return x\n",
    "end\n",
    "@btime foo()\n",
    "@btime foo2()"
   ]
  },
  {
   "cell_type": "markdown",
   "id": "8e6e44f9",
   "metadata": {},
   "source": [
    "<a class=\"anchor\" id=\"barrier\"></a>\n",
    "### Mitigate type uncertainty with barrier functions\n",
    "---- [Return to table of contents](#toc) ---"
   ]
  },
  {
   "cell_type": "code",
   "execution_count": 51,
   "id": "f2e498f1-9126-484c-a1e1-c9e10da7c89e",
   "metadata": {
    "scrolled": true
   },
   "outputs": [
    {
     "data": {
      "text/plain": [
       "4-element Vector{Int64}:\n",
       "            32\n",
       "             2\n",
       " 2040585291600\n",
       " 2040585291664"
      ]
     },
     "execution_count": 51,
     "metadata": {},
     "output_type": "execute_result"
    }
   ],
   "source": [
    "a = Vector{rand(Bool) ? Int64 : Float64}(undef, 4)"
   ]
  },
  {
   "cell_type": "code",
   "execution_count": 53,
   "id": "4f0b728a-07ae-47e1-9dc5-7b913c1ebc50",
   "metadata": {},
   "outputs": [
    {
     "data": {
      "text/plain": [
       "strange_twos2 (generic function with 1 method)"
      ]
     },
     "execution_count": 53,
     "metadata": {},
     "output_type": "execute_result"
    }
   ],
   "source": [
    "function strange_twos(n)\n",
    "    a = Vector{rand(Bool) ? Int64 : Float64}(undef, n)\n",
    "    for i = 1:n\n",
    "       a[i] = 2\n",
    "    end\n",
    "    return a\n",
    "end;\n",
    "# Let's refactor that to 2 functions\n",
    "function fill_twos!(a)\n",
    "   for i = eachindex(a)\n",
    "       a[i] = 2\n",
    "   end\n",
    "end;\n",
    "function strange_twos2(n)\n",
    "   a = Vector{rand(Bool) ? Int64 : Float64}(undef, n)\n",
    "   fill_twos!(a)\n",
    "   return a\n",
    "end"
   ]
  },
  {
   "cell_type": "code",
   "execution_count": 54,
   "id": "d867c462-5bd8-4a44-a63c-5054bfe16911",
   "metadata": {},
   "outputs": [
    {
     "name": "stdout",
     "output_type": "stream",
     "text": [
      "  24.100 μs (491 allocations: 15.59 KiB)\n",
      "  1.180 μs (2 allocations: 7.95 KiB)\n"
     ]
    }
   ],
   "source": [
    "@btime strange_twos(1_000);\n",
    "@btime strange_twos2(1_000);"
   ]
  },
  {
   "cell_type": "markdown",
   "id": "f90636ee",
   "metadata": {},
   "source": [
    "<a class=\"anchor\" id=\"column\"></a>\n",
    "### Remember about column-major layout of matrices\n",
    "---- [Return to table of contents](#toc) ---"
   ]
  },
  {
   "cell_type": "code",
   "execution_count": 57,
   "id": "50205556-72b5-4c80-ac1f-3d8b3cc8dcdc",
   "metadata": {},
   "outputs": [
    {
     "name": "stdout",
     "output_type": "stream",
     "text": [
      "  17.854 ns (2 allocations: 80 bytes)\n"
     ]
    },
    {
     "data": {
      "text/plain": [
       "4-element Vector{Int64}:\n",
       " 1\n",
       " 3\n",
       " 2\n",
       " 4"
      ]
     },
     "execution_count": 57,
     "metadata": {},
     "output_type": "execute_result"
    }
   ],
   "source": [
    "@btime vec($x)"
   ]
  },
  {
   "cell_type": "code",
   "execution_count": 55,
   "id": "15a4ecd5-d5e3-4bad-b9c5-af058645eda3",
   "metadata": {},
   "outputs": [
    {
     "data": {
      "text/plain": [
       "2×2 Matrix{Int64}:\n",
       " 1  2\n",
       " 3  4"
      ]
     },
     "metadata": {},
     "output_type": "display_data"
    },
    {
     "data": {
      "text/plain": [
       "4-element Vector{Int64}:\n",
       " 1\n",
       " 3\n",
       " 2\n",
       " 4"
      ]
     },
     "metadata": {},
     "output_type": "display_data"
    }
   ],
   "source": [
    "#note data in memory is aligned along columns\n",
    "x = [1 2; 3 4]\n",
    "display(x);\n",
    "display(vec(x));\n"
   ]
  },
  {
   "cell_type": "code",
   "execution_count": 58,
   "id": "824883ee-f8d7-4605-bee6-9765f3bdb742",
   "metadata": {},
   "outputs": [
    {
     "data": {
      "text/plain": [
       "2×2 Matrix{Int64}:\n",
       "   1  2\n",
       " 999  4"
      ]
     },
     "execution_count": 58,
     "metadata": {},
     "output_type": "execute_result"
    }
   ],
   "source": [
    "y  = vec(x)\n",
    "y[2]=999\n",
    "x"
   ]
  },
  {
   "cell_type": "code",
   "execution_count": 59,
   "id": "98e5fff9-c60f-472e-a119-34a0df48d3c0",
   "metadata": {},
   "outputs": [],
   "source": [
    "xx2 = rand(10_000,10_000);"
   ]
  },
  {
   "cell_type": "code",
   "execution_count": 60,
   "id": "e903d60b-73c6-45a1-985f-a706672ab532",
   "metadata": {},
   "outputs": [
    {
     "name": "stdout",
     "output_type": "stream",
     "text": [
      "  6.560 μs (0 allocations: 0 bytes)\n",
      "  1.900 μs (0 allocations: 0 bytes)\n"
     ]
    },
    {
     "data": {
      "text/plain": [
       "5001.794683284842"
      ]
     },
     "execution_count": 60,
     "metadata": {},
     "output_type": "execute_result"
    }
   ],
   "source": [
    "function sum1(x)\n",
    "    sum_ = 0.0\n",
    "    for row in 1:100\n",
    "        @simd for column in 1:100\n",
    "            @inbounds sum_ += x[row,column]\n",
    "        end\n",
    "    end\n",
    "    sum_\n",
    "end\n",
    "\n",
    "function sum2(x)\n",
    "    sum_ = 0.0\n",
    "    for column in 1:100\n",
    "        @simd for row in 1:100\n",
    "            @inbounds sum_ += x[row,column]\n",
    "        end\n",
    "    end\n",
    "    sum_\n",
    "end\n",
    "\n",
    "@btime sum1($xx2)\n",
    "@btime sum2($xx2)\n"
   ]
  },
  {
   "cell_type": "markdown",
   "id": "025e6169",
   "metadata": {},
   "source": [
    "<a class=\"anchor\" id=\"views\"></a>\n",
    "### Prealocate, use views, vectorize\n",
    "---- [Return to table of contents](#toc) ---"
   ]
  },
  {
   "cell_type": "code",
   "execution_count": 61,
   "id": "a549012f-3eb1-4dfa-96eb-a4a0f320ba15",
   "metadata": {},
   "outputs": [
    {
     "name": "stdout",
     "output_type": "stream",
     "text": [
      "  90.745 ms (1000000 allocations: 76.29 MiB)\n",
      "  470.000 μs (1 allocation: 80 bytes)\n"
     ]
    },
    {
     "data": {
      "text/plain": [
       "500001500000"
      ]
     },
     "execution_count": 61,
     "metadata": {},
     "output_type": "execute_result"
    }
   ],
   "source": [
    "#preallocate vectors and matrices\n",
    "\n",
    "function xinc(x)\n",
    "    return [x, x+1, x+2]\n",
    "end;\n",
    "\n",
    "function loopinc()\n",
    "   y = 0\n",
    "   for i = 1:10^6\n",
    "       ret = xinc(i)\n",
    "       y += ret[2]\n",
    "   end\n",
    "   return y\n",
    "end;\n",
    "\n",
    "function xinc!(ret::AbstractVector{T}, x::T) where T\n",
    "    ret[1] = x\n",
    "    ret[2] = x+1\n",
    "    ret[3] = x+2\n",
    "    nothing\n",
    "end;\n",
    "\n",
    "function loopinc_prealloc()\n",
    "   ret = Vector{Int}(undef, 3)\n",
    "   y = 0\n",
    "   for i = 1:10^6\n",
    "       xinc!(ret, i)\n",
    "       y += ret[2]\n",
    "   end\n",
    "   return y\n",
    "end;\n",
    "\n",
    "@btime loopinc()\n",
    "@btime loopinc_prealloc()\n"
   ]
  },
  {
   "cell_type": "code",
   "execution_count": 65,
   "id": "958afe5c",
   "metadata": {},
   "outputs": [
    {
     "name": "stdout",
     "output_type": "stream",
     "text": [
      "  2.777 ms (3 allocations: 7.63 MiB)\n",
      "  230.300 μs (1 allocation: 16 bytes)\n",
      "  317.500 μs (1 allocation: 16 bytes)\n"
     ]
    }
   ],
   "source": [
    "# if you need subranges of matrices use views - do not copy the data!\n",
    "fcopy(x) = sum(x[2:end-1]);\n",
    "fview(x) = sum(@view x[2:end-1]);  \n",
    "@views fview2(x) = sum(x[2:end-1]);\n",
    "\n",
    "xvv = rand(10^6);\n",
    "\n",
    "@btime fcopy(xvv);\n",
    "@btime fview(xvv);\n",
    "@btime fview2(xvv);\n",
    "\n"
   ]
  },
  {
   "cell_type": "code",
   "execution_count": 66,
   "id": "6de4ba3c-6f8d-4cea-ab9e-77923e0e21d5",
   "metadata": {},
   "outputs": [
    {
     "name": "stdout",
     "output_type": "stream",
     "text": [
      "  58.000 μs (12 allocations: 469.03 KiB)\n",
      "  8.400 μs (6 allocations: 78.20 KiB)\n",
      "  5.100 μs (6 allocations: 78.20 KiB)\n"
     ]
    }
   ],
   "source": [
    "#macro @. can aggregate several vectorization operations\n",
    "\n",
    "f(x) =       3x.^2 + 4x + 7x.^3;\n",
    "\n",
    "fdot(x) = @. 3x^2 + 4x + 7x^3\n",
    "\n",
    "f2(x) =       3 .* x.^2 .+ 4 .* x .+ 7 .* x.^3;\n",
    "\n",
    "\n",
    "xv = rand(10000)\n",
    "\n",
    "@btime f(xv)\n",
    "@btime fdot(xv)\n",
    "@btime f2(xv);"
   ]
  },
  {
   "cell_type": "markdown",
   "id": "f42c474c",
   "metadata": {},
   "source": [
    "<a class=\"anchor\" id=\"warntype\"></a>\n",
    "### Check type stability with the `@code_warntype` macro\n",
    "---- [Return to table of contents](#toc) ---"
   ]
  },
  {
   "cell_type": "code",
   "execution_count": 22,
   "id": "8809daba-a896-443f-95fe-e21a17a2008f",
   "metadata": {},
   "outputs": [
    {
     "data": {
      "text/plain": [
       "0"
      ]
     },
     "execution_count": 22,
     "metadata": {},
     "output_type": "execute_result"
    }
   ],
   "source": [
    "pos(x) = x < 0 ? 0 : x;\n",
    "\n",
    "pos(rand()-0.5)"
   ]
  },
  {
   "cell_type": "code",
   "execution_count": 23,
   "id": "e21bf358-653d-4043-8cec-a60cccc93f9c",
   "metadata": {},
   "outputs": [
    {
     "data": {
      "text/plain": [
       "-0.5440211108893698"
      ]
     },
     "execution_count": 23,
     "metadata": {},
     "output_type": "execute_result"
    }
   ],
   "source": [
    "function f(x)\n",
    "   y = pos(x)\n",
    "   return sin(y*x + 1)\n",
    "end;\n",
    "f(3)"
   ]
  },
  {
   "cell_type": "code",
   "execution_count": 24,
   "id": "8fb51030-0c9d-493f-bcde-1c7020f6b4c8",
   "metadata": {
    "scrolled": true
   },
   "outputs": [
    {
     "name": "stdout",
     "output_type": "stream",
     "text": [
      "MethodInstance for f(::Float64)\n",
      "  from f(\u001b[90mx\u001b[39m)\u001b[90m @\u001b[39m \u001b[90mMain\u001b[39m \u001b[90m\u001b[4mIn[23]:1\u001b[24m\u001b[39m\n",
      "Arguments\n",
      "  #self#\u001b[36m::Core.Const(f)\u001b[39m\n",
      "  x\u001b[36m::Float64\u001b[39m\n",
      "Locals\n",
      "  y\u001b[33m\u001b[1m::Union{Float64, Int64}\u001b[22m\u001b[39m\n",
      "Body\u001b[36m::Float64\u001b[39m\n",
      "\u001b[90m1 ─\u001b[39m      (y = Main.pos(x))\n",
      "\u001b[90m│  \u001b[39m %2 = (y * x)\u001b[36m::Float64\u001b[39m\n",
      "\u001b[90m│  \u001b[39m %3 = (%2 + 1)\u001b[36m::Float64\u001b[39m\n",
      "\u001b[90m│  \u001b[39m %4 = Main.sin(%3)\u001b[36m::Float64\u001b[39m\n",
      "\u001b[90m└──\u001b[39m      return %4\n",
      "\n"
     ]
    }
   ],
   "source": [
    "@code_warntype f(2.3)"
   ]
  },
  {
   "cell_type": "code",
   "execution_count": 25,
   "id": "c8f848bd",
   "metadata": {},
   "outputs": [
    {
     "name": "stdout",
     "output_type": "stream",
     "text": [
      "MethodInstance for f(::Float64)\n",
      "  from f(\u001b[90mx\u001b[39m)\u001b[90m @\u001b[39m \u001b[90mMain\u001b[39m \u001b[90m\u001b[4mIn[23]:1\u001b[24m\u001b[39m\n",
      "Arguments\n",
      "  #self#\u001b[36m::Core.Const(f)\u001b[39m\n",
      "  x\u001b[36m::Float64\u001b[39m\n",
      "Locals\n",
      "  y\u001b[36m::Float64\u001b[39m\n",
      "Body\u001b[36m::Float64\u001b[39m\n",
      "\u001b[90m1 ─\u001b[39m      (y = Main.pos(x))\n",
      "\u001b[90m│  \u001b[39m %2 = (y * x)\u001b[36m::Float64\u001b[39m\n",
      "\u001b[90m│  \u001b[39m %3 = (%2 + 1)\u001b[36m::Float64\u001b[39m\n",
      "\u001b[90m│  \u001b[39m %4 = Main.sin(%3)\u001b[36m::Float64\u001b[39m\n",
      "\u001b[90m└──\u001b[39m      return %4\n",
      "\n"
     ]
    }
   ],
   "source": [
    "pos(x) = x < 0 ? zero(x) : x;\n",
    "@code_warntype f(2.3)"
   ]
  }
 ],
 "metadata": {
  "kernelspec": {
   "display_name": "Julia 1.10.1",
   "language": "julia",
   "name": "julia-1.10"
  },
  "language_info": {
   "file_extension": ".jl",
   "mimetype": "application/julia",
   "name": "julia",
   "version": "1.10.1"
  }
 },
 "nbformat": 4,
 "nbformat_minor": 5
}
