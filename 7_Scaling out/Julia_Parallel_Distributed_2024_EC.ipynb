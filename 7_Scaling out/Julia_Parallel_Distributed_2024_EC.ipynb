{
 "cells": [
  {
   "cell_type": "markdown",
   "id": "e4e18dfa",
   "metadata": {},
   "source": [
    "# Scaling out numerical computing in Julia\n",
    "Przemysław Szufel\n",
    "\n",
    "\n",
    "\n",
    "\n",
    "<a class=\"anchor\" id=\"toc\"></a>\n",
    "## Table of content\n",
    "\n",
    "    \n",
    "1. [Parallelize via Single Instruction Multiple Data (SIMD)](#simd)\n",
    "2. [Green threading](#green)\n",
    "3. [Multithreading](#multithreading)\n",
    "4. [Multi-processing and distributed computing](#multiprocessing)"
   ]
  },
  {
   "cell_type": "markdown",
   "id": "73dedff3-ed99-4fc7-9c08-f707e54c284c",
   "metadata": {},
   "source": [
    "Before running Jupyter notebook set in Julia number of threads.\n",
    "This should be done *before* actually running the `notebook()` command.\n",
    "The number of threads can be also set up in Julia options in Visual Studio code (if this is used to run this notebook).\n",
    "```\n",
    "# run this code from Julia console just before starting Jupyter Notebook\n",
    "ENV[\"JULIA_NUM_THREADS\"]=4\n",
    "```"
   ]
  },
  {
   "cell_type": "code",
   "execution_count": 1,
   "id": "68b0836a",
   "metadata": {},
   "outputs": [
    {
     "name": "stdout",
     "output_type": "stream",
     "text": [
      "Number of threads that your Julia is run: ## 4\n"
     ]
    }
   ],
   "source": [
    "println(\"Number of threads that your Julia is run: ## $(Threads.nthreads())\")"
   ]
  },
  {
   "cell_type": "code",
   "execution_count": 3,
   "id": "1923f8dc-20bf-4b6e-8d04-631532bc8e9a",
   "metadata": {},
   "outputs": [
    {
     "name": "stdout",
     "output_type": "stream",
     "text": [
      "\u001b[32m\u001b[1mStatus\u001b[22m\u001b[39m `C:\\AAABIBLIOTEKA\\EuropeanCommission\\2024_Julica_EC_Distributed_GPU\\1_ParallelDistributed\\Project.toml`\n",
      "  \u001b[90m[1520ce14] \u001b[39mAbstractTrees v0.4.5\n",
      "  \u001b[90m[6e4b80f9] \u001b[39mBenchmarkTools v1.5.0\n",
      "  \u001b[90m[336ed68f] \u001b[39mCSV v0.10.14\n",
      "  \u001b[90m[34f1f09b] \u001b[39mClusterManagers v0.4.6\n",
      "  \u001b[90m[a93c6f00] \u001b[39mDataFrames v1.6.1\n",
      "  \u001b[90m[31c24e10] \u001b[39mDistributions v0.25.108\n",
      "  \u001b[90m[cd3eb016] \u001b[39mHTTP v1.10.8\n",
      "  \u001b[90m[0f8b85d8] \u001b[39mJSON3 v1.14.0\n",
      "  \u001b[90m[91a5bcdd] \u001b[39mPlots v1.40.4\n"
     ]
    }
   ],
   "source": [
    "using Pkg\n",
    "Pkg.status()"
   ]
  },
  {
   "cell_type": "code",
   "execution_count": 4,
   "id": "4aa1aaf0",
   "metadata": {},
   "outputs": [],
   "source": [
    "using BenchmarkTools, Distributed"
   ]
  },
  {
   "cell_type": "markdown",
   "id": "02a83007",
   "metadata": {},
   "source": [
    "<a class=\"anchor\" id=\"simd\"></a>\n",
    "### Parallelize via Single Instruction Multiple Data (SIMD)\n",
    "---- [Return to table of contents](#toc) ---\n",
    "\n"
   ]
  },
  {
   "cell_type": "code",
   "execution_count": 6,
   "id": "a6acee57",
   "metadata": {},
   "outputs": [
    {
     "data": {
      "text/plain": [
       "dot1 (generic function with 1 method)"
      ]
     },
     "execution_count": 6,
     "metadata": {},
     "output_type": "execute_result"
    }
   ],
   "source": [
    "function dot1(x, y)\n",
    "    s = 0.0\n",
    "    for i in 1:length(x)\n",
    "        @inbounds s += x[i]*y[i]\n",
    "    end\n",
    "    s\n",
    "end"
   ]
  },
  {
   "cell_type": "code",
   "execution_count": 7,
   "id": "869b35dc",
   "metadata": {},
   "outputs": [
    {
     "data": {
      "text/plain": [
       "dot2 (generic function with 1 method)"
      ]
     },
     "execution_count": 7,
     "metadata": {},
     "output_type": "execute_result"
    }
   ],
   "source": [
    "function dot2(x, y)\n",
    "    s = 0.0\n",
    "    @simd for i in 1:length(x)\n",
    "        @inbounds s += x[i]*y[i]\n",
    "    end\n",
    "    s\n",
    "end"
   ]
  },
  {
   "cell_type": "code",
   "execution_count": 16,
   "id": "be06d15d-fcb2-43ec-91ae-122923141319",
   "metadata": {},
   "outputs": [
    {
     "data": {
      "text/plain": [
       "1×10000 adjoint(::Vector{Float64}) with eltype Float64:\n",
       " 59.9256  51.1308  95.4121  4.47716  …  64.5328  31.1439  2.26223  87.9916"
      ]
     },
     "execution_count": 16,
     "metadata": {},
     "output_type": "execute_result"
    }
   ],
   "source": [
    "x'"
   ]
  },
  {
   "cell_type": "code",
   "execution_count": 8,
   "id": "693abf6e",
   "metadata": {},
   "outputs": [
    {
     "name": "stdout",
     "output_type": "stream",
     "text": [
      "  4.000 μs (0 allocations: 0 bytes)\n",
      "  764.035 ns (0 allocations: 0 bytes)\n"
     ]
    },
    {
     "data": {
      "text/plain": [
       "2.504822558295526e7"
      ]
     },
     "execution_count": 8,
     "metadata": {},
     "output_type": "execute_result"
    }
   ],
   "source": [
    "x = 100*rand(10000)\n",
    "y = 100*rand(10000);\n",
    "\n",
    "@btime dot1($x, $y)\n",
    "@btime dot2($x, $y)"
   ]
  },
  {
   "cell_type": "code",
   "execution_count": 11,
   "id": "75b43a0d-cf78-45dc-abd8-a3571dc0df0f",
   "metadata": {},
   "outputs": [
    {
     "name": "stdout",
     "output_type": "stream",
     "text": [
      "  1.140 μs (0 allocations: 0 bytes)\n"
     ]
    },
    {
     "data": {
      "text/plain": [
       "2.504822558295526e7"
      ]
     },
     "execution_count": 11,
     "metadata": {},
     "output_type": "execute_result"
    }
   ],
   "source": [
    "using LinearAlgebra\n",
    "@btime dot($x, $y)"
   ]
  },
  {
   "cell_type": "code",
   "execution_count": 12,
   "id": "fceca0fa",
   "metadata": {},
   "outputs": [
    {
     "data": {
      "text/plain": [
       "2.5048225582955126e7"
      ]
     },
     "execution_count": 12,
     "metadata": {},
     "output_type": "execute_result"
    }
   ],
   "source": [
    "res1 =  dot1(x, y)"
   ]
  },
  {
   "cell_type": "code",
   "execution_count": 13,
   "id": "5dc2f9c3",
   "metadata": {
    "scrolled": true
   },
   "outputs": [
    {
     "data": {
      "text/plain": [
       "2.504822558295526e7"
      ]
     },
     "execution_count": 13,
     "metadata": {},
     "output_type": "execute_result"
    }
   ],
   "source": [
    "res2 ≈  dot2(x, y)"
   ]
  },
  {
   "cell_type": "code",
   "execution_count": 72,
   "id": "c05b2210",
   "metadata": {},
   "outputs": [
    {
     "data": {
      "text/plain": [
       "false"
      ]
     },
     "execution_count": 72,
     "metadata": {},
     "output_type": "execute_result"
    }
   ],
   "source": [
    "res1 == res2"
   ]
  },
  {
   "cell_type": "code",
   "execution_count": 18,
   "id": "290606ff",
   "metadata": {},
   "outputs": [
    {
     "name": "stdout",
     "output_type": "stream",
     "text": [
      "res1 = 2.5048225582955126e7\n",
      "res2 = 2.504822558295526e7\n"
     ]
    },
    {
     "data": {
      "text/plain": [
       "2.504822558295526e7"
      ]
     },
     "execution_count": 18,
     "metadata": {},
     "output_type": "execute_result"
    }
   ],
   "source": [
    "@show res1 \n",
    "@show res2"
   ]
  },
  {
   "cell_type": "code",
   "execution_count": 15,
   "id": "bac33f20-f6f9-49a6-b0e4-d06c02893353",
   "metadata": {},
   "outputs": [
    {
     "data": {
      "text/plain": [
       "true"
      ]
     },
     "execution_count": 15,
     "metadata": {},
     "output_type": "execute_result"
    }
   ],
   "source": [
    "res1 ≈ res2"
   ]
  },
  {
   "cell_type": "markdown",
   "id": "b939e997",
   "metadata": {},
   "source": [
    "<a class=\"anchor\" id=\"green\"></a>\n",
    "### Green threading \n",
    "---- [Return to table of contents](#toc) ---\n"
   ]
  },
  {
   "cell_type": "code",
   "execution_count": 19,
   "id": "f7da7625",
   "metadata": {},
   "outputs": [
    {
     "name": "stdout",
     "output_type": "stream",
     "text": [
      "  2.016791 seconds (44 allocations: 1.297 KiB)\n"
     ]
    }
   ],
   "source": [
    "@time sleep(2)"
   ]
  },
  {
   "cell_type": "code",
   "execution_count": 21,
   "id": "fe3275b2",
   "metadata": {
    "scrolled": true
   },
   "outputs": [
    {
     "name": "stdout",
     "output_type": "stream",
     "text": [
      "  0.000069 seconds (27 allocations: 2.086 KiB)\n"
     ]
    },
    {
     "data": {
      "text/plain": [
       "Task (runnable) @0x000002be45d95180"
      ]
     },
     "execution_count": 21,
     "metadata": {},
     "output_type": "execute_result"
    }
   ],
   "source": [
    "@time t = @async sleep(4)"
   ]
  },
  {
   "cell_type": "code",
   "execution_count": 23,
   "id": "d4dc6985-72d8-41d4-842b-f36ba0b2f3f8",
   "metadata": {},
   "outputs": [
    {
     "data": {
      "text/plain": [
       "Task (done) @0x000002be45d95180"
      ]
     },
     "execution_count": 23,
     "metadata": {},
     "output_type": "execute_result"
    }
   ],
   "source": [
    "t"
   ]
  },
  {
   "cell_type": "code",
   "execution_count": 24,
   "id": "572b606b",
   "metadata": {},
   "outputs": [
    {
     "data": {
      "text/plain": [
       "dojob (generic function with 1 method)"
      ]
     },
     "execution_count": 24,
     "metadata": {},
     "output_type": "execute_result"
    }
   ],
   "source": [
    "function dojob(i)\n",
    "    fname = download(\"https://szufel.pl/pliki/plik.txt?id=$i\")  # this could be external computations with I/O\n",
    "    i, fname\n",
    "end"
   ]
  },
  {
   "cell_type": "code",
   "execution_count": 26,
   "id": "d077f704-6539-49a7-ad69-962cd61442bc",
   "metadata": {},
   "outputs": [
    {
     "data": {
      "text/plain": [
       "(2, \"C:\\\\Users\\\\pszuf\\\\AppData\\\\Local\\\\Temp\\\\jl_3eDO92zmlo\")"
      ]
     },
     "execution_count": 26,
     "metadata": {},
     "output_type": "execute_result"
    }
   ],
   "source": [
    "_, myfname = dojob(2)"
   ]
  },
  {
   "cell_type": "code",
   "execution_count": 29,
   "id": "6c96c8d7",
   "metadata": {},
   "outputs": [
    {
     "data": {
      "text/plain": [
       "8-element Vector{Tuple{Int64, String}}:\n",
       " #undef\n",
       " #undef\n",
       " #undef\n",
       " #undef\n",
       " #undef\n",
       " #undef\n",
       " #undef\n",
       " #undef"
      ]
     },
     "execution_count": 29,
     "metadata": {},
     "output_type": "execute_result"
    }
   ],
   "source": [
    "result = Vector{Tuple{Int,String}}(undef, 8)"
   ]
  },
  {
   "cell_type": "code",
   "execution_count": 30,
   "id": "e127dc06",
   "metadata": {},
   "outputs": [
    {
     "name": "stdout",
     "output_type": "stream",
     "text": [
      "  1.355866 seconds (3.78 k allocations: 223.281 KiB, 0.43% compilation time)\n"
     ]
    },
    {
     "data": {
      "text/plain": [
       "8-element Vector{Tuple{Int64, String}}:\n",
       " (1, \"C:\\\\Users\\\\pszuf\\\\AppData\\\\Local\\\\Temp\\\\jl_9yl2RqzSJa\")\n",
       " (2, \"C:\\\\Users\\\\pszuf\\\\AppData\\\\Local\\\\Temp\\\\jl_5iT2r4JY5E\")\n",
       " (3, \"C:\\\\Users\\\\pszuf\\\\AppData\\\\Local\\\\Temp\\\\jl_DMfE38lkRy\")\n",
       " (4, \"C:\\\\Users\\\\pszuf\\\\AppData\\\\Local\\\\Temp\\\\jl_luNYHCl6fC\")\n",
       " (5, \"C:\\\\Users\\\\pszuf\\\\AppData\\\\Local\\\\Temp\\\\jl_Dkb6ZM1Ofe\")\n",
       " (6, \"C:\\\\Users\\\\pszuf\\\\AppData\\\\Local\\\\Temp\\\\jl_FqVG56R8JI\")\n",
       " (7, \"C:\\\\Users\\\\pszuf\\\\AppData\\\\Local\\\\Temp\\\\jl_xyrqNsdadk\")\n",
       " (8, \"C:\\\\Users\\\\pszuf\\\\AppData\\\\Local\\\\Temp\\\\jl_3ybqBW9MZC\")"
      ]
     },
     "execution_count": 30,
     "metadata": {},
     "output_type": "execute_result"
    }
   ],
   "source": [
    "@time for i=1:8\n",
    "    result[i] = dojob(i)\n",
    "end\n",
    "result"
   ]
  },
  {
   "cell_type": "code",
   "execution_count": 34,
   "id": "3bf5cf64",
   "metadata": {
    "scrolled": true
   },
   "outputs": [
    {
     "name": "stdout",
     "output_type": "stream",
     "text": [
      "  0.000104 seconds (81 allocations: 7.055 KiB)\n"
     ]
    },
    {
     "data": {
      "text/plain": [
       "8-element Vector{Tuple{Int64, String}}:\n",
       "    (1, \"C:\\\\Users\\\\pszuf\\\\AppData\\\\Local\\\\Temp\\\\jl_1shivUl6lq\")\n",
       "    (2, \"C:\\\\Users\\\\pszuf\\\\AppData\\\\Local\\\\Temp\\\\jl_RqJSLi1mro\")\n",
       " #undef\n",
       "    (4, \"C:\\\\Users\\\\pszuf\\\\AppData\\\\Local\\\\Temp\\\\jl_Duj0hyJkhM\")\n",
       " #undef\n",
       " #undef\n",
       "    (7, \"C:\\\\Users\\\\pszuf\\\\AppData\\\\Local\\\\Temp\\\\jl_xyHMLuneVm\")\n",
       " #undef"
      ]
     },
     "execution_count": 34,
     "metadata": {},
     "output_type": "execute_result"
    }
   ],
   "source": [
    "result = Vector{Tuple{Int,String}}(undef, 8)\n",
    "@time for i=1:8\n",
    "   @async result[i] = dojob(i)\n",
    "end\n",
    "sleep(0.12)\n",
    "result"
   ]
  },
  {
   "cell_type": "code",
   "execution_count": 35,
   "id": "280228a5-684e-4784-95a3-63dd7488e3f9",
   "metadata": {},
   "outputs": [
    {
     "data": {
      "text/plain": [
       "8-element Vector{Tuple{Int64, String}}:\n",
       " (1, \"C:\\\\Users\\\\pszuf\\\\AppData\\\\Local\\\\Temp\\\\jl_1shivUl6lq\")\n",
       " (2, \"C:\\\\Users\\\\pszuf\\\\AppData\\\\Local\\\\Temp\\\\jl_RqJSLi1mro\")\n",
       " (3, \"C:\\\\Users\\\\pszuf\\\\AppData\\\\Local\\\\Temp\\\\jl_ZOrMt6t8F8\")\n",
       " (4, \"C:\\\\Users\\\\pszuf\\\\AppData\\\\Local\\\\Temp\\\\jl_Duj0hyJkhM\")\n",
       " (5, \"C:\\\\Users\\\\pszuf\\\\AppData\\\\Local\\\\Temp\\\\jl_P6PW5iZW1y\")\n",
       " (6, \"C:\\\\Users\\\\pszuf\\\\AppData\\\\Local\\\\Temp\\\\jl_hw5mPiVOtu\")\n",
       " (7, \"C:\\\\Users\\\\pszuf\\\\AppData\\\\Local\\\\Temp\\\\jl_xyHMLuneVm\")\n",
       " (8, \"C:\\\\Users\\\\pszuf\\\\AppData\\\\Local\\\\Temp\\\\jl_pwLo1ijWvi\")"
      ]
     },
     "execution_count": 35,
     "metadata": {},
     "output_type": "execute_result"
    }
   ],
   "source": [
    "result\n"
   ]
  },
  {
   "cell_type": "code",
   "execution_count": 37,
   "id": "4a0bf596-af1c-4fea-9019-997256a0eb08",
   "metadata": {},
   "outputs": [
    {
     "name": "stdout",
     "output_type": "stream",
     "text": [
      "  1.325766 seconds (3.18 k allocations: 180.594 KiB)\n"
     ]
    }
   ],
   "source": [
    "result = Vector{Tuple{Int,String}}(undef, 8);\n",
    "@time for i=1:8\n",
    "   result[i] = dojob(i)\n",
    "end"
   ]
  },
  {
   "cell_type": "code",
   "execution_count": 38,
   "id": "6bc95ae6",
   "metadata": {},
   "outputs": [
    {
     "name": "stdout",
     "output_type": "stream",
     "text": [
      "  0.518670 seconds (4.53 k allocations: 262.211 KiB, 1.35% compilation time)\n"
     ]
    },
    {
     "data": {
      "text/plain": [
       "8-element Vector{Tuple{Int64, String}}:\n",
       " (1, \"C:\\\\Users\\\\pszuf\\\\AppData\\\\Local\\\\Temp\\\\jl_1mhMB430Bg\")\n",
       " (2, \"C:\\\\Users\\\\pszuf\\\\AppData\\\\Local\\\\Temp\\\\jl_ZcxIXKliz0\")\n",
       " (3, \"C:\\\\Users\\\\pszuf\\\\AppData\\\\Local\\\\Temp\\\\jl_5gnYpyPO7a\")\n",
       " (4, \"C:\\\\Users\\\\pszuf\\\\AppData\\\\Local\\\\Temp\\\\jl_5E7q9ATERo\")\n",
       " (5, \"C:\\\\Users\\\\pszuf\\\\AppData\\\\Local\\\\Temp\\\\jl_LW7whgbS1q\")\n",
       " (6, \"C:\\\\Users\\\\pszuf\\\\AppData\\\\Local\\\\Temp\\\\jl_REZs1SLUbk\")\n",
       " (7, \"C:\\\\Users\\\\pszuf\\\\AppData\\\\Local\\\\Temp\\\\jl_bW3iPgDwFK\")\n",
       " (8, \"C:\\\\Users\\\\pszuf\\\\AppData\\\\Local\\\\Temp\\\\jl_PGtCNipwd8\")"
      ]
     },
     "execution_count": 38,
     "metadata": {},
     "output_type": "execute_result"
    }
   ],
   "source": [
    "result = Vector{Tuple{Int,String}}(undef, 8);\n",
    "@time @sync for i=1:8\n",
    "   @async result[i] = dojob(i)\n",
    "end\n",
    "result"
   ]
  },
  {
   "cell_type": "code",
   "execution_count": 49,
   "id": "00a24433-f623-4f8e-967a-6cbd2295425a",
   "metadata": {},
   "outputs": [
    {
     "data": {
      "text/plain": [
       "Task (runnable) @0x000002be45e49180"
      ]
     },
     "execution_count": 49,
     "metadata": {},
     "output_type": "execute_result"
    }
   ],
   "source": [
    "function f(c)\n",
    "    val = take!(c)\n",
    "    println(\"DONE $val\")\n",
    "end\n",
    "\n",
    "c= Channel()\n",
    "@async f(c)\n"
   ]
  },
  {
   "cell_type": "code",
   "execution_count": 50,
   "id": "81baad89-fefe-48dc-ab3a-f8fed0ae1925",
   "metadata": {},
   "outputs": [
    {
     "name": "stdout",
     "output_type": "stream",
     "text": [
      "DONE done"
     ]
    },
    {
     "data": {
      "text/plain": [
       "\"done\""
      ]
     },
     "execution_count": 50,
     "metadata": {},
     "output_type": "execute_result"
    },
    {
     "name": "stdout",
     "output_type": "stream",
     "text": [
      "\n"
     ]
    }
   ],
   "source": [
    "put!(c, \"done\")"
   ]
  },
  {
   "cell_type": "code",
   "execution_count": 42,
   "id": "a3efb92e-84d7-4976-8315-80248087b826",
   "metadata": {},
   "outputs": [
    {
     "data": {
      "text/plain": [
       "jobstat (generic function with 1 method)"
      ]
     },
     "execution_count": 42,
     "metadata": {},
     "output_type": "execute_result"
    }
   ],
   "source": [
    "function jobstat(sem::Base.RefValue{Bool})\n",
    "    sleep(4)\n",
    "    sem[] = true\n",
    "end\n"
   ]
  },
  {
   "cell_type": "code",
   "execution_count": 43,
   "id": "99384afd-1d79-4f0b-9076-85c8659a3b1e",
   "metadata": {},
   "outputs": [
    {
     "data": {
      "text/plain": [
       "Task (runnable) @0x000002be45a083f0"
      ]
     },
     "execution_count": 43,
     "metadata": {},
     "output_type": "execute_result"
    }
   ],
   "source": [
    "completed = Ref(false)\n",
    "@async jobstat(completed)"
   ]
  },
  {
   "cell_type": "code",
   "execution_count": 45,
   "id": "79870648-8718-46be-8109-aa0c9bade0e6",
   "metadata": {},
   "outputs": [
    {
     "data": {
      "text/plain": [
       "Base.RefValue{Bool}(true)"
      ]
     },
     "execution_count": 45,
     "metadata": {},
     "output_type": "execute_result"
    }
   ],
   "source": [
    "completed"
   ]
  },
  {
   "cell_type": "code",
   "execution_count": 51,
   "id": "54fc6bb1-0d72-4311-bb32-4729c0061fe6",
   "metadata": {},
   "outputs": [
    {
     "data": {
      "text/plain": [
       "20-element Vector{Tuple{Int64, String}}:\n",
       " (1, \"C:\\\\Users\\\\pszuf\\\\AppData\\\\Local\\\\Temp\\\\jl_J2Fw3chSDO\")\n",
       " (2, \"C:\\\\Users\\\\pszuf\\\\AppData\\\\Local\\\\Temp\\\\jl_RmtinExWPI\")\n",
       " (3, \"C:\\\\Users\\\\pszuf\\\\AppData\\\\Local\\\\Temp\\\\jl_b4xQRQHk9y\")\n",
       " (4, \"C:\\\\Users\\\\pszuf\\\\AppData\\\\Local\\\\Temp\\\\jl_F8fY9YzMDU\")\n",
       " (5, \"C:\\\\Users\\\\pszuf\\\\AppData\\\\Local\\\\Temp\\\\jl_1ghuVm7Iba\")\n",
       " (6, \"C:\\\\Users\\\\pszuf\\\\AppData\\\\Local\\\\Temp\\\\jl_7IBkp0HYXW\")\n",
       " (7, \"C:\\\\Users\\\\pszuf\\\\AppData\\\\Local\\\\Temp\\\\jl_3A1qLYXQNG\")\n",
       " (8, \"C:\\\\Users\\\\pszuf\\\\AppData\\\\Local\\\\Temp\\\\jl_pSrWjSpCdG\")\n",
       " (9, \"C:\\\\Users\\\\pszuf\\\\AppData\\\\Local\\\\Temp\\\\jl_nufCfKDWd6\")\n",
       " (10, \"C:\\\\Users\\\\pszuf\\\\AppData\\\\Local\\\\Temp\\\\jl_1UtczC9eXo\")\n",
       " (11, \"C:\\\\Users\\\\pszuf\\\\AppData\\\\Local\\\\Temp\\\\jl_5sLMVgXSZA\")\n",
       " (12, \"C:\\\\Users\\\\pszuf\\\\AppData\\\\Local\\\\Temp\\\\jl_py96fOFunA\")\n",
       " (13, \"C:\\\\Users\\\\pszuf\\\\AppData\\\\Local\\\\Temp\\\\jl_p0Jw54BcPY\")\n",
       " (14, \"C:\\\\Users\\\\pszuf\\\\AppData\\\\Local\\\\Temp\\\\jl_ri16HwdoNu\")\n",
       " (15, \"C:\\\\Users\\\\pszuf\\\\AppData\\\\Local\\\\Temp\\\\jl_N4jglUDin2\")\n",
       " (16, \"C:\\\\Users\\\\pszuf\\\\AppData\\\\Local\\\\Temp\\\\jl_zQJ47ov25E\")\n",
       " (17, \"C:\\\\Users\\\\pszuf\\\\AppData\\\\Local\\\\Temp\\\\jl_XSVQ9C7UH6\")\n",
       " (18, \"C:\\\\Users\\\\pszuf\\\\AppData\\\\Local\\\\Temp\\\\jl_xi5alShE5y\")\n",
       " (19, \"C:\\\\Users\\\\pszuf\\\\AppData\\\\Local\\\\Temp\\\\jl_RcVAlCNQxm\")\n",
       " (20, \"C:\\\\Users\\\\pszuf\\\\AppData\\\\Local\\\\Temp\\\\jl_NsZAtC7oDI\")"
      ]
     },
     "execution_count": 51,
     "metadata": {},
     "output_type": "execute_result"
    }
   ],
   "source": [
    "asyncmap(dojob, 1:20; ntasks=5)"
   ]
  },
  {
   "cell_type": "code",
   "execution_count": 25,
   "id": "0ce5c730-3fa4-4d4f-b89f-7d28ff9989a6",
   "metadata": {},
   "outputs": [
    {
     "name": "stdout",
     "output_type": "stream",
     "text": [
      "search: \u001b[0m\u001b[1ma\u001b[22m\u001b[0m\u001b[1ms\u001b[22m\u001b[0m\u001b[1my\u001b[22m\u001b[0m\u001b[1mn\u001b[22m\u001b[0m\u001b[1mc\u001b[22m\u001b[0m\u001b[1mm\u001b[22m\u001b[0m\u001b[1ma\u001b[22m\u001b[0m\u001b[1mp\u001b[22m \u001b[0m\u001b[1ma\u001b[22m\u001b[0m\u001b[1ms\u001b[22m\u001b[0m\u001b[1my\u001b[22m\u001b[0m\u001b[1mn\u001b[22m\u001b[0m\u001b[1mc\u001b[22m\u001b[0m\u001b[1mm\u001b[22m\u001b[0m\u001b[1ma\u001b[22m\u001b[0m\u001b[1mp\u001b[22m!\n",
      "\n"
     ]
    },
    {
     "data": {
      "text/latex": [
       "\\begin{verbatim}\n",
       "asyncmap(f, c...; ntasks=0, batch_size=nothing)\n",
       "\\end{verbatim}\n",
       "Uses multiple concurrent tasks to map \\texttt{f} over a collection (or multiple equal length collections). For multiple collection arguments, \\texttt{f} is applied elementwise.\n",
       "\n",
       "\\texttt{ntasks} specifies the number of tasks to run concurrently. Depending on the length of the collections, if \\texttt{ntasks} is unspecified, up to 100 tasks will be used for concurrent mapping.\n",
       "\n",
       "\\texttt{ntasks} can also be specified as a zero-arg function. In this case, the number of tasks to run in parallel is checked before processing every element and a new task started if the value of \\texttt{ntasks\\_func} is greater than the current number of tasks.\n",
       "\n",
       "If \\texttt{batch\\_size} is specified, the collection is processed in batch mode. \\texttt{f} must then be a function that must accept a \\texttt{Vector} of argument tuples and must return a vector of results. The input vector will have a length of \\texttt{batch\\_size} or less.\n",
       "\n",
       "The following examples highlight execution in different tasks by returning the \\texttt{objectid} of the tasks in which the mapping function is executed.\n",
       "\n",
       "First, with \\texttt{ntasks} undefined, each element is processed in a different task.\n",
       "\n",
       "\\begin{verbatim}\n",
       "julia> tskoid() = objectid(current_task());\n",
       "\n",
       "julia> asyncmap(x->tskoid(), 1:5)\n",
       "5-element Array{UInt64,1}:\n",
       " 0x6e15e66c75c75853\n",
       " 0x440f8819a1baa682\n",
       " 0x9fb3eeadd0c83985\n",
       " 0xebd3e35fe90d4050\n",
       " 0x29efc93edce2b961\n",
       "\n",
       "julia> length(unique(asyncmap(x->tskoid(), 1:5)))\n",
       "5\n",
       "\\end{verbatim}\n",
       "With \\texttt{ntasks=2} all elements are processed in 2 tasks.\n",
       "\n",
       "\\begin{verbatim}\n",
       "julia> asyncmap(x->tskoid(), 1:5; ntasks=2)\n",
       "5-element Array{UInt64,1}:\n",
       " 0x027ab1680df7ae94\n",
       " 0xa23d2f80cd7cf157\n",
       " 0x027ab1680df7ae94\n",
       " 0xa23d2f80cd7cf157\n",
       " 0x027ab1680df7ae94\n",
       "\n",
       "julia> length(unique(asyncmap(x->tskoid(), 1:5; ntasks=2)))\n",
       "2\n",
       "\\end{verbatim}\n",
       "With \\texttt{batch\\_size} defined, the mapping function needs to be changed to accept an array of argument tuples and return an array of results. \\texttt{map} is used in the modified mapping function to achieve this.\n",
       "\n",
       "\\begin{verbatim}\n",
       "julia> batch_func(input) = map(x->string(\"args_tuple: \", x, \", element_val: \", x[1], \", task: \", tskoid()), input)\n",
       "batch_func (generic function with 1 method)\n",
       "\n",
       "julia> asyncmap(batch_func, 1:5; ntasks=2, batch_size=2)\n",
       "5-element Array{String,1}:\n",
       " \"args_tuple: (1,), element_val: 1, task: 9118321258196414413\"\n",
       " \"args_tuple: (2,), element_val: 2, task: 4904288162898683522\"\n",
       " \"args_tuple: (3,), element_val: 3, task: 9118321258196414413\"\n",
       " \"args_tuple: (4,), element_val: 4, task: 4904288162898683522\"\n",
       " \"args_tuple: (5,), element_val: 5, task: 9118321258196414413\"\n",
       "\\end{verbatim}\n"
      ],
      "text/markdown": [
       "```\n",
       "asyncmap(f, c...; ntasks=0, batch_size=nothing)\n",
       "```\n",
       "\n",
       "Uses multiple concurrent tasks to map `f` over a collection (or multiple equal length collections). For multiple collection arguments, `f` is applied elementwise.\n",
       "\n",
       "`ntasks` specifies the number of tasks to run concurrently. Depending on the length of the collections, if `ntasks` is unspecified, up to 100 tasks will be used for concurrent mapping.\n",
       "\n",
       "`ntasks` can also be specified as a zero-arg function. In this case, the number of tasks to run in parallel is checked before processing every element and a new task started if the value of `ntasks_func` is greater than the current number of tasks.\n",
       "\n",
       "If `batch_size` is specified, the collection is processed in batch mode. `f` must then be a function that must accept a `Vector` of argument tuples and must return a vector of results. The input vector will have a length of `batch_size` or less.\n",
       "\n",
       "The following examples highlight execution in different tasks by returning the `objectid` of the tasks in which the mapping function is executed.\n",
       "\n",
       "First, with `ntasks` undefined, each element is processed in a different task.\n",
       "\n",
       "```\n",
       "julia> tskoid() = objectid(current_task());\n",
       "\n",
       "julia> asyncmap(x->tskoid(), 1:5)\n",
       "5-element Array{UInt64,1}:\n",
       " 0x6e15e66c75c75853\n",
       " 0x440f8819a1baa682\n",
       " 0x9fb3eeadd0c83985\n",
       " 0xebd3e35fe90d4050\n",
       " 0x29efc93edce2b961\n",
       "\n",
       "julia> length(unique(asyncmap(x->tskoid(), 1:5)))\n",
       "5\n",
       "```\n",
       "\n",
       "With `ntasks=2` all elements are processed in 2 tasks.\n",
       "\n",
       "```\n",
       "julia> asyncmap(x->tskoid(), 1:5; ntasks=2)\n",
       "5-element Array{UInt64,1}:\n",
       " 0x027ab1680df7ae94\n",
       " 0xa23d2f80cd7cf157\n",
       " 0x027ab1680df7ae94\n",
       " 0xa23d2f80cd7cf157\n",
       " 0x027ab1680df7ae94\n",
       "\n",
       "julia> length(unique(asyncmap(x->tskoid(), 1:5; ntasks=2)))\n",
       "2\n",
       "```\n",
       "\n",
       "With `batch_size` defined, the mapping function needs to be changed to accept an array of argument tuples and return an array of results. `map` is used in the modified mapping function to achieve this.\n",
       "\n",
       "```\n",
       "julia> batch_func(input) = map(x->string(\"args_tuple: \", x, \", element_val: \", x[1], \", task: \", tskoid()), input)\n",
       "batch_func (generic function with 1 method)\n",
       "\n",
       "julia> asyncmap(batch_func, 1:5; ntasks=2, batch_size=2)\n",
       "5-element Array{String,1}:\n",
       " \"args_tuple: (1,), element_val: 1, task: 9118321258196414413\"\n",
       " \"args_tuple: (2,), element_val: 2, task: 4904288162898683522\"\n",
       " \"args_tuple: (3,), element_val: 3, task: 9118321258196414413\"\n",
       " \"args_tuple: (4,), element_val: 4, task: 4904288162898683522\"\n",
       " \"args_tuple: (5,), element_val: 5, task: 9118321258196414413\"\n",
       "```\n"
      ],
      "text/plain": [
       "\u001b[36m  asyncmap(f, c...; ntasks=0, batch_size=nothing)\u001b[39m\n",
       "\n",
       "  Uses multiple concurrent tasks to map \u001b[36mf\u001b[39m over a collection (or multiple equal\n",
       "  length collections). For multiple collection arguments, \u001b[36mf\u001b[39m is applied\n",
       "  elementwise.\n",
       "\n",
       "  \u001b[36mntasks\u001b[39m specifies the number of tasks to run concurrently. Depending on the\n",
       "  length of the collections, if \u001b[36mntasks\u001b[39m is unspecified, up to 100 tasks will be\n",
       "  used for concurrent mapping.\n",
       "\n",
       "  \u001b[36mntasks\u001b[39m can also be specified as a zero-arg function. In this case, the\n",
       "  number of tasks to run in parallel is checked before processing every\n",
       "  element and a new task started if the value of \u001b[36mntasks_func\u001b[39m is greater than\n",
       "  the current number of tasks.\n",
       "\n",
       "  If \u001b[36mbatch_size\u001b[39m is specified, the collection is processed in batch mode. \u001b[36mf\u001b[39m\n",
       "  must then be a function that must accept a \u001b[36mVector\u001b[39m of argument tuples and\n",
       "  must return a vector of results. The input vector will have a length of\n",
       "  \u001b[36mbatch_size\u001b[39m or less.\n",
       "\n",
       "  The following examples highlight execution in different tasks by returning\n",
       "  the \u001b[36mobjectid\u001b[39m of the tasks in which the mapping function is executed.\n",
       "\n",
       "  First, with \u001b[36mntasks\u001b[39m undefined, each element is processed in a different task.\n",
       "\n",
       "\u001b[36m  julia> tskoid() = objectid(current_task());\u001b[39m\n",
       "\u001b[36m  \u001b[39m\n",
       "\u001b[36m  julia> asyncmap(x->tskoid(), 1:5)\u001b[39m\n",
       "\u001b[36m  5-element Array{UInt64,1}:\u001b[39m\n",
       "\u001b[36m   0x6e15e66c75c75853\u001b[39m\n",
       "\u001b[36m   0x440f8819a1baa682\u001b[39m\n",
       "\u001b[36m   0x9fb3eeadd0c83985\u001b[39m\n",
       "\u001b[36m   0xebd3e35fe90d4050\u001b[39m\n",
       "\u001b[36m   0x29efc93edce2b961\u001b[39m\n",
       "\u001b[36m  \u001b[39m\n",
       "\u001b[36m  julia> length(unique(asyncmap(x->tskoid(), 1:5)))\u001b[39m\n",
       "\u001b[36m  5\u001b[39m\n",
       "\n",
       "  With \u001b[36mntasks=2\u001b[39m all elements are processed in 2 tasks.\n",
       "\n",
       "\u001b[36m  julia> asyncmap(x->tskoid(), 1:5; ntasks=2)\u001b[39m\n",
       "\u001b[36m  5-element Array{UInt64,1}:\u001b[39m\n",
       "\u001b[36m   0x027ab1680df7ae94\u001b[39m\n",
       "\u001b[36m   0xa23d2f80cd7cf157\u001b[39m\n",
       "\u001b[36m   0x027ab1680df7ae94\u001b[39m\n",
       "\u001b[36m   0xa23d2f80cd7cf157\u001b[39m\n",
       "\u001b[36m   0x027ab1680df7ae94\u001b[39m\n",
       "\u001b[36m  \u001b[39m\n",
       "\u001b[36m  julia> length(unique(asyncmap(x->tskoid(), 1:5; ntasks=2)))\u001b[39m\n",
       "\u001b[36m  2\u001b[39m\n",
       "\n",
       "  With \u001b[36mbatch_size\u001b[39m defined, the mapping function needs to be changed to accept\n",
       "  an array of argument tuples and return an array of results. \u001b[36mmap\u001b[39m is used in\n",
       "  the modified mapping function to achieve this.\n",
       "\n",
       "\u001b[36m  julia> batch_func(input) = map(x->string(\"args_tuple: \", x, \", element_val: \", x[1], \", task: \", tskoid()), input)\u001b[39m\n",
       "\u001b[36m  batch_func (generic function with 1 method)\u001b[39m\n",
       "\u001b[36m  \u001b[39m\n",
       "\u001b[36m  julia> asyncmap(batch_func, 1:5; ntasks=2, batch_size=2)\u001b[39m\n",
       "\u001b[36m  5-element Array{String,1}:\u001b[39m\n",
       "\u001b[36m   \"args_tuple: (1,), element_val: 1, task: 9118321258196414413\"\u001b[39m\n",
       "\u001b[36m   \"args_tuple: (2,), element_val: 2, task: 4904288162898683522\"\u001b[39m\n",
       "\u001b[36m   \"args_tuple: (3,), element_val: 3, task: 9118321258196414413\"\u001b[39m\n",
       "\u001b[36m   \"args_tuple: (4,), element_val: 4, task: 4904288162898683522\"\u001b[39m\n",
       "\u001b[36m   \"args_tuple: (5,), element_val: 5, task: 9118321258196414413\"\u001b[39m"
      ]
     },
     "execution_count": 25,
     "metadata": {},
     "output_type": "execute_result"
    }
   ],
   "source": [
    "?asyncmap"
   ]
  },
  {
   "cell_type": "markdown",
   "id": "b57767fa",
   "metadata": {},
   "source": [
    "#### Programming a simple web server\n",
    "You should be able to connect using the address <a href=\"http://localhost:9992/3+4\" target=\"about:blank\">http://localhost:9992/3+4</a>\n",
    "\n",
    "To stop web server click <a href=\"http://localhost:9992/stopme\" target=\"about:blank\">http://localhost:9992/stopme</a>"
   ]
  },
  {
   "cell_type": "code",
   "execution_count": 52,
   "id": "c6641220",
   "metadata": {},
   "outputs": [
    {
     "name": "stdout",
     "output_type": "stream",
     "text": [
      "Starting the web server...\n"
     ]
    },
    {
     "data": {
      "text/plain": [
       "Sockets.TCPServer(Base.Libc.WindowsRawSocket(0x0000000000000744) active)"
      ]
     },
     "execution_count": 52,
     "metadata": {},
     "output_type": "execute_result"
    }
   ],
   "source": [
    "using Sockets\n",
    "println(\"Starting the web server...\")\n",
    "server = Sockets.listen(9992)"
   ]
  },
  {
   "cell_type": "code",
   "execution_count": 53,
   "id": "70a28d67",
   "metadata": {},
   "outputs": [
    {
     "name": "stdout",
     "output_type": "stream",
     "text": [
      "Got request:\n",
      "GET /3+4 HTTP/1.1\n",
      "Got request:\n",
      "GET /favicon.ico HTTP/1.1\n",
      "Got request:\n",
      "GET /30+40 HTTP/1.1\n",
      "Got request:\n",
      "GET /favicon.ico HTTP/1.1\n",
      "Got request:\n",
      "GET /stopme HTTP/1.1\n",
      "Handling requests stopped\n",
      "Got request:\n",
      "GET /favicon.ico HTTP/1.1\n"
     ]
    }
   ],
   "source": [
    "begin\n",
    "    contt = Ref(true)\n",
    "    while contt[]\n",
    "        sock = Sockets.accept(server)\n",
    "        @async begin\n",
    "            data = readline(sock)\n",
    "            print(\"Got request:\\n\", data, \"\\n\")\n",
    "            cmd = split(data, \" \")[2][2:end]\n",
    "            println(sock, \"\\nHTTP/1.1 200 OK\\nContent-Type: text/html\\n\")\n",
    "            contt[] = contt[] && (!occursin(\"stopme\", data))\n",
    "            if contt[]\n",
    "                 println(sock, string(\"<html><body>\", cmd, \"=\", \n",
    "                     eval(Meta.parse(cmd)), \"</body></html>\"))\n",
    "            else\n",
    "                println(sock,\"<html><body>stopping</body></html>\")\n",
    "            end\n",
    "            close(sock)\n",
    "        end\n",
    "    end\n",
    "    println(\"Handling requests stopped\")\n",
    "end"
   ]
  },
  {
   "cell_type": "markdown",
   "id": "e0561254",
   "metadata": {},
   "source": [
    "<a class=\"anchor\" id=\"multithreading\"></a>\n",
    "### Multithreading\n",
    "---- [Return to table of contents](#toc) ---\n"
   ]
  },
  {
   "cell_type": "code",
   "execution_count": 54,
   "id": "a2e3cdd9",
   "metadata": {},
   "outputs": [
    {
     "data": {
      "text/plain": [
       "4"
      ]
     },
     "execution_count": 54,
     "metadata": {},
     "output_type": "execute_result"
    }
   ],
   "source": [
    "Threads.nthreads()"
   ]
  },
  {
   "cell_type": "code",
   "execution_count": 55,
   "id": "61e1d1d1",
   "metadata": {},
   "outputs": [
    {
     "data": {
      "text/plain": [
       "ssum (generic function with 1 method)"
      ]
     },
     "execution_count": 55,
     "metadata": {},
     "output_type": "execute_result"
    }
   ],
   "source": [
    "function ssum(x)\n",
    "    r, c = size(x)\n",
    "    y = zeros(c)\n",
    "    for i in 1:c\n",
    "        for j in 1:r\n",
    "            @inbounds y[i] += x[j, i]\n",
    "        end\n",
    "    end\n",
    "    y\n",
    "end"
   ]
  },
  {
   "cell_type": "code",
   "execution_count": 56,
   "id": "e2a4a2e8",
   "metadata": {},
   "outputs": [
    {
     "data": {
      "text/plain": [
       "tsum (generic function with 1 method)"
      ]
     },
     "execution_count": 56,
     "metadata": {},
     "output_type": "execute_result"
    }
   ],
   "source": [
    "function tsum(x)\n",
    "    r, c = size(x)\n",
    "    y = zeros(c)\n",
    "    Threads.@threads for i in 1:c\n",
    "        for j in 1:r\n",
    "            @inbounds y[i] += x[j, i]\n",
    "        end\n",
    "    end\n",
    "    y\n",
    "end\n"
   ]
  },
  {
   "cell_type": "code",
   "execution_count": 57,
   "id": "2e4ebef5",
   "metadata": {},
   "outputs": [],
   "source": [
    "x = rand(1000,10000);"
   ]
  },
  {
   "cell_type": "code",
   "execution_count": 58,
   "id": "55526866",
   "metadata": {},
   "outputs": [
    {
     "name": "stdout",
     "output_type": "stream",
     "text": [
      "  0.030382 seconds (7.23 k allocations: 575.148 KiB, 58.13% compilation time)\n",
      "  0.013528 seconds (2 allocations: 78.172 KiB)\n"
     ]
    }
   ],
   "source": [
    "@time ssum(x)\n",
    "@time ssum(x);"
   ]
  },
  {
   "cell_type": "code",
   "execution_count": 59,
   "id": "eed39ed8",
   "metadata": {},
   "outputs": [
    {
     "name": "stdout",
     "output_type": "stream",
     "text": [
      "  0.116192 seconds (44.37 k allocations: 3.113 MiB, 166.48% compilation time)\n",
      "  0.005133 seconds (26 allocations: 81.266 KiB)\n"
     ]
    }
   ],
   "source": [
    "@time tsum(x)\n",
    "@time tsum(x);"
   ]
  },
  {
   "cell_type": "markdown",
   "id": "52d9f2a7",
   "metadata": {},
   "source": [
    "#### Locking mechanism for threads"
   ]
  },
  {
   "cell_type": "code",
   "execution_count": 60,
   "id": "5894cc29",
   "metadata": {},
   "outputs": [
    {
     "data": {
      "text/plain": [
       "f_bad (generic function with 1 method)"
      ]
     },
     "execution_count": 60,
     "metadata": {},
     "output_type": "execute_result"
    }
   ],
   "source": [
    "function f_bad()\n",
    "    x = 0\n",
    "    Threads.@threads for i in 1:10^6\n",
    "        x += 1\n",
    "    end\n",
    "    return x\n",
    "end\n"
   ]
  },
  {
   "cell_type": "code",
   "execution_count": 71,
   "id": "a5ed2555",
   "metadata": {},
   "outputs": [
    {
     "data": {
      "text/plain": [
       "252309"
      ]
     },
     "execution_count": 71,
     "metadata": {},
     "output_type": "execute_result"
    }
   ],
   "source": [
    "f_bad()"
   ]
  },
  {
   "cell_type": "code",
   "execution_count": 74,
   "id": "de164cd7",
   "metadata": {},
   "outputs": [
    {
     "name": "stdout",
     "output_type": "stream",
     "text": [
      "  1.400 ns (0 allocations: 0 bytes)\n"
     ]
    },
    {
     "data": {
      "text/plain": [
       "1000000000"
      ]
     },
     "execution_count": 74,
     "metadata": {},
     "output_type": "execute_result"
    }
   ],
   "source": [
    "using BenchmarkTools\n",
    "function f_add()\n",
    "    x = 0 \n",
    "    for i in 1:10^9\n",
    "        x += 1\n",
    "    end\n",
    "    x\n",
    "end\n",
    "@btime f_add() "
   ]
  },
  {
   "cell_type": "code",
   "execution_count": 81,
   "id": "f42e030c-5fec-4a1f-b654-05a146d6c9c3",
   "metadata": {},
   "outputs": [
    {
     "data": {
      "text/plain": [
       "150"
      ]
     },
     "execution_count": 81,
     "metadata": {},
     "output_type": "execute_result"
    }
   ],
   "source": [
    "x[]"
   ]
  },
  {
   "cell_type": "code",
   "execution_count": 82,
   "id": "eeb97516",
   "metadata": {
    "scrolled": true
   },
   "outputs": [
    {
     "data": {
      "text/plain": [
       "1000000"
      ]
     },
     "execution_count": 82,
     "metadata": {},
     "output_type": "execute_result"
    }
   ],
   "source": [
    "function f_atomic()\n",
    "    x = Threads.Atomic{Int}(0)\n",
    "    Threads.@threads for i in 1:10^6\n",
    "        Threads.atomic_add!(x, 1)\n",
    "    end\n",
    "    return x[]\n",
    "end\n",
    "f_atomic()"
   ]
  },
  {
   "cell_type": "code",
   "execution_count": 84,
   "id": "59801888-ffc4-406b-ad5e-4622372683cc",
   "metadata": {
    "scrolled": true
   },
   "outputs": [
    {
     "data": {
      "text/plain": [
       "1000000"
      ]
     },
     "execution_count": 84,
     "metadata": {},
     "output_type": "execute_result"
    }
   ],
   "source": [
    "function f_bins()\n",
    "    result = zeros(Int, Threads.nthreads())\n",
    "    Threads.@threads for i in 1:10^6\n",
    "        result[Threads.threadid()] += 1\n",
    "    end\n",
    "    return sum(result)\n",
    "end\n",
    "f_easy()"
   ]
  },
  {
   "cell_type": "code",
   "execution_count": 113,
   "id": "3f93480a-5877-4305-9e97-1dad633895fb",
   "metadata": {},
   "outputs": [
    {
     "data": {
      "text/plain": [
       "3"
      ]
     },
     "execution_count": 113,
     "metadata": {},
     "output_type": "execute_result"
    }
   ],
   "source": [
    "fetch(Threads.@spawn Threads.threadid())"
   ]
  },
  {
   "cell_type": "code",
   "execution_count": 89,
   "id": "c12e35ce-f4aa-46d4-a5c4-5f16593a02e5",
   "metadata": {},
   "outputs": [
    {
     "data": {
      "text/plain": [
       "Task (runnable) @0x000002be10cbc9c0"
      ]
     },
     "execution_count": 89,
     "metadata": {},
     "output_type": "execute_result"
    }
   ],
   "source": [
    "t = Threads.@spawn begin sleep(8);3+3;end"
   ]
  },
  {
   "cell_type": "code",
   "execution_count": 90,
   "id": "c94dad8b-1d73-4cbd-9a4b-02aaf4de0190",
   "metadata": {},
   "outputs": [
    {
     "data": {
      "text/plain": [
       "6"
      ]
     },
     "execution_count": 90,
     "metadata": {},
     "output_type": "execute_result"
    }
   ],
   "source": [
    "fetch(t)"
   ]
  },
  {
   "cell_type": "code",
   "execution_count": 91,
   "id": "d3f93949-7a0f-4ec5-a52e-698393315931",
   "metadata": {},
   "outputs": [
    {
     "data": {
      "text/plain": [
       "f_chunks (generic function with 1 method)"
      ]
     },
     "execution_count": 91,
     "metadata": {},
     "output_type": "execute_result"
    }
   ],
   "source": [
    "function f_chunks()\n",
    "    chunks = Iterators.partition(1:1000_000, 1000_000 ÷ Threads.nthreads())\n",
    "    tasks = map(chunks) do chunk\n",
    "        Threads.@spawn begin\n",
    "            s = 0\n",
    "            for i in chunk\n",
    "                s += 1\n",
    "            end\n",
    "            s\n",
    "        end\n",
    "    end\n",
    "    chunk_sums = fetch.(tasks)\n",
    "    return sum(chunk_sums)\n",
    "end"
   ]
  },
  {
   "cell_type": "code",
   "execution_count": 92,
   "id": "d5359fcc",
   "metadata": {},
   "outputs": [
    {
     "data": {
      "text/plain": [
       "f_reentrant (generic function with 1 method)"
      ]
     },
     "execution_count": 92,
     "metadata": {},
     "output_type": "execute_result"
    }
   ],
   "source": [
    "# this is good up till 16 threads\n",
    "function f_reentrant()\n",
    "    l = ReentrantLock()\n",
    "    # create shared data\n",
    "    x = 0    \n",
    "    df = DataFrame()\n",
    "    Threads.@threads for i in 1:10^6        \n",
    "        # provide the code that does all computation\n",
    "        # ....\n",
    "        Threads.lock(l) do\n",
    "            # provide the code that updates the shared data\n",
    "            x += 1\n",
    "            push!(df, ...)\n",
    "        end\n",
    "    end\n",
    "    return x\n",
    "end\n"
   ]
  },
  {
   "cell_type": "code",
   "execution_count": 93,
   "id": "6c969c44",
   "metadata": {},
   "outputs": [
    {
     "name": "stdout",
     "output_type": "stream",
     "text": [
      "\u001b[1m10×4 DataFrame\u001b[0m\n",
      "\u001b[1m Row \u001b[0m│\u001b[1m f           \u001b[0m\u001b[1m i     \u001b[0m\u001b[1m value   \u001b[0m\u001b[1m timems   \u001b[0m\n",
      "     │\u001b[90m String      \u001b[0m\u001b[90m Int64 \u001b[0m\u001b[90m Int64   \u001b[0m\u001b[90m Float64  \u001b[0m\n",
      "─────┼───────────────────────────────────────\n",
      "   1 │ f_bad            1   250509   29.0828\n",
      "   2 │ f_bad            2   250000   28.0122\n",
      "   3 │ f_atomic         1  1000000   16.3139\n",
      "   4 │ f_atomic         2  1000000   16.9462\n",
      "   5 │ f_easy           1  1000000    0.0507\n",
      "   6 │ f_easy           2  1000000    0.0176\n",
      "   7 │ f_chunks         1  1000000  179.431\n",
      "   8 │ f_chunks         2  1000000    0.2488\n",
      "   9 │ f_reentrant      1  1000000  367.541\n",
      "  10 │ f_reentrant      2  1000000  309.614\n"
     ]
    }
   ],
   "source": [
    "using DataFrames\n",
    "stats = DataFrame()\n",
    "for f in [f_bad, f_atomic, f_easy, f_chunks, f_reentrant]\n",
    "    for i = 1:2\n",
    "        value, elapsedtime  = @timed f()\n",
    "        push!(stats, (f=string(f),i=i, value=value, timems=elapsedtime*1000))\n",
    "    end\n",
    "end\n",
    "println(stats)\n"
   ]
  },
  {
   "cell_type": "markdown",
   "id": "2846c599",
   "metadata": {},
   "source": [
    "<a class=\"anchor\" id=\"multiprocessing\"></a>\n",
    "### Multi-processing and distributed computing\n",
    "---- [Return to table of contents](#toc) ---\n"
   ]
  },
  {
   "cell_type": "code",
   "execution_count": 115,
   "id": "b9e7cf7d",
   "metadata": {},
   "outputs": [],
   "source": [
    "using Distributed"
   ]
  },
  {
   "cell_type": "markdown",
   "id": "caf3b10c",
   "metadata": {},
   "source": [
    "This code adds 4 workers (and avoids adding more)"
   ]
  },
  {
   "cell_type": "code",
   "execution_count": 114,
   "id": "e0626f59",
   "metadata": {},
   "outputs": [],
   "source": [
    "addprocs(max(0, 5-nprocs()));"
   ]
  },
  {
   "cell_type": "code",
   "execution_count": 116,
   "id": "99b678b4",
   "metadata": {
    "scrolled": true
   },
   "outputs": [
    {
     "data": {
      "text/plain": [
       "4-element Vector{Int64}:\n",
       " 2\n",
       " 3\n",
       " 4\n",
       " 5"
      ]
     },
     "execution_count": 116,
     "metadata": {},
     "output_type": "execute_result"
    }
   ],
   "source": [
    "workers()"
   ]
  },
  {
   "cell_type": "code",
   "execution_count": 117,
   "id": "f0ffdc87",
   "metadata": {},
   "outputs": [
    {
     "name": "stdout",
     "output_type": "stream",
     "text": [
      "  0.706433 seconds (20.00 k allocations: 763.397 MiB, 13.87% gc time)\n",
      "  0.710811 seconds (20.00 k allocations: 763.397 MiB, 14.33% gc time)\n"
     ]
    },
    {
     "data": {
      "text/plain": [
       "5000.073882932142"
      ]
     },
     "execution_count": 117,
     "metadata": {},
     "output_type": "execute_result"
    }
   ],
   "source": [
    "function s_rand()\n",
    "    n = 10^4\n",
    "    x = 0.0\n",
    "    for i in 1:n\n",
    "        x += sum(rand(10^4))\n",
    "    end\n",
    "    x / n\n",
    "end\n",
    " \n",
    "@time s_rand()\n",
    "@time s_rand()\n"
   ]
  },
  {
   "cell_type": "code",
   "execution_count": 118,
   "id": "84ede908",
   "metadata": {},
   "outputs": [
    {
     "name": "stdout",
     "output_type": "stream",
     "text": [
      "  1.918265 seconds (465.10 k allocations: 31.231 MiB, 38.88% compilation time)\n",
      "  0.192752 seconds (431 allocations: 24.094 KiB)\n"
     ]
    },
    {
     "data": {
      "text/plain": [
       "5000.144259169032"
      ]
     },
     "execution_count": 118,
     "metadata": {},
     "output_type": "execute_result"
    }
   ],
   "source": [
    "using Distributed\n",
    " \n",
    "function p_rand()\n",
    "    n = 10^4\n",
    "    x = @distributed (+) for i in 1:n\n",
    "        # more lines coul dbe here\n",
    "        # the last line will be aggregated\n",
    "        sum(rand(10^4))\n",
    "    end\n",
    "    x / n\n",
    "end\n",
    "\n",
    "@time p_rand()\n",
    "@time p_rand()\n"
   ]
  },
  {
   "cell_type": "code",
   "execution_count": 46,
   "id": "5fa09611",
   "metadata": {},
   "outputs": [
    {
     "data": {
      "text/plain": [
       "1×4 adjoint(::Vector{Int64}) with eltype Int64:\n",
       " 2  3  4  5"
      ]
     },
     "execution_count": 46,
     "metadata": {},
     "output_type": "execute_result"
    }
   ],
   "source": [
    "workers()'"
   ]
  },
  {
   "cell_type": "code",
   "execution_count": 125,
   "id": "6cd2e00f-345d-45c7-8cf9-cf1f240e9679",
   "metadata": {},
   "outputs": [
    {
     "data": {
      "text/plain": [
       "Future(5, 1, 20, ReentrantLock(nothing, 0x00000000, 0x00, Base.GenericCondition{Base.Threads.SpinLock}(Base.IntrusiveLinkedList{Task}(nothing, nothing), Base.Threads.SpinLock(0)), (0, 3015316826112, 3015316838800)), nothing)"
      ]
     },
     "execution_count": 125,
     "metadata": {},
     "output_type": "execute_result"
    }
   ],
   "source": [
    "t = Distributed.@spawnat 5 myid()"
   ]
  },
  {
   "cell_type": "code",
   "execution_count": 126,
   "id": "f08ff310-b02b-4d1e-98e0-6016d3ecf03d",
   "metadata": {},
   "outputs": [
    {
     "data": {
      "text/plain": [
       "5"
      ]
     },
     "execution_count": 126,
     "metadata": {},
     "output_type": "execute_result"
    }
   ],
   "source": [
    "fetch(t)"
   ]
  },
  {
   "cell_type": "code",
   "execution_count": 47,
   "id": "123009f7",
   "metadata": {},
   "outputs": [
    {
     "data": {
      "text/plain": [
       "7"
      ]
     },
     "execution_count": 47,
     "metadata": {},
     "output_type": "execute_result"
    }
   ],
   "source": [
    "fetch(@spawnat 3 4+3)"
   ]
  },
  {
   "cell_type": "code",
   "execution_count": 139,
   "id": "bf74de87",
   "metadata": {
    "scrolled": true
   },
   "outputs": [
    {
     "name": "stdout",
     "output_type": "stream",
     "text": [
      "I am on worker 1\n"
     ]
    },
    {
     "data": {
      "text/html": [
       "<div><div style = \"float: left;\"><span>1×1 DataFrame</span></div><div style = \"clear: both;\"></div></div><div class = \"data-frame\" style = \"overflow-x: scroll;\"><table class = \"data-frame\" style = \"margin-bottom: 6px;\"><thead><tr class = \"header\"><th class = \"rowNumber\" style = \"font-weight: bold; text-align: right;\">Row</th><th style = \"text-align: left;\">c</th></tr><tr class = \"subheader headerLastRow\"><th class = \"rowNumber\" style = \"font-weight: bold; text-align: right;\"></th><th title = \"Float64\" style = \"text-align: left;\">Float64</th></tr></thead><tbody><tr><td class = \"rowNumber\" style = \"font-weight: bold; text-align: right;\">1</td><td style = \"text-align: right;\">0.0767119</td></tr></tbody></table></div>"
      ],
      "text/latex": [
       "\\begin{tabular}{r|c}\n",
       "\t& c\\\\\n",
       "\t\\hline\n",
       "\t& Float64\\\\\n",
       "\t\\hline\n",
       "\t1 & 0.0767119 \\\\\n",
       "\\end{tabular}\n"
      ],
      "text/plain": [
       "\u001b[1m1×1 DataFrame\u001b[0m\n",
       "\u001b[1m Row \u001b[0m│\u001b[1m c         \u001b[0m\n",
       "     │\u001b[90m Float64   \u001b[0m\n",
       "─────┼───────────\n",
       "   1 │ 0.0767119"
      ]
     },
     "execution_count": 139,
     "metadata": {},
     "output_type": "execute_result"
    }
   ],
   "source": [
    "@everywhere using DataFrames\n",
    "@everywhere function myf() \n",
    "    println(\"I am on worker \", myid())\n",
    "    DataFrame(c=rand())\n",
    "end\n",
    "myf()"
   ]
  },
  {
   "cell_type": "code",
   "execution_count": 140,
   "id": "693934cc-6f54-49fa-b8ea-7f601f5c5b2f",
   "metadata": {},
   "outputs": [
    {
     "name": "stdout",
     "output_type": "stream",
     "text": [
      "      From worker 2:\tI am on worker 2\n"
     ]
    },
    {
     "data": {
      "text/html": [
       "<div><div style = \"float: left;\"><span>1×1 DataFrame</span></div><div style = \"clear: both;\"></div></div><div class = \"data-frame\" style = \"overflow-x: scroll;\"><table class = \"data-frame\" style = \"margin-bottom: 6px;\"><thead><tr class = \"header\"><th class = \"rowNumber\" style = \"font-weight: bold; text-align: right;\">Row</th><th style = \"text-align: left;\">c</th></tr><tr class = \"subheader headerLastRow\"><th class = \"rowNumber\" style = \"font-weight: bold; text-align: right;\"></th><th title = \"Float64\" style = \"text-align: left;\">Float64</th></tr></thead><tbody><tr><td class = \"rowNumber\" style = \"font-weight: bold; text-align: right;\">1</td><td style = \"text-align: right;\">0.728635</td></tr></tbody></table></div>"
      ],
      "text/latex": [
       "\\begin{tabular}{r|c}\n",
       "\t& c\\\\\n",
       "\t\\hline\n",
       "\t& Float64\\\\\n",
       "\t\\hline\n",
       "\t1 & 0.728635 \\\\\n",
       "\\end{tabular}\n"
      ],
      "text/plain": [
       "\u001b[1m1×1 DataFrame\u001b[0m\n",
       "\u001b[1m Row \u001b[0m│\u001b[1m c        \u001b[0m\n",
       "     │\u001b[90m Float64  \u001b[0m\n",
       "─────┼──────────\n",
       "   1 │ 0.728635"
      ]
     },
     "execution_count": 140,
     "metadata": {},
     "output_type": "execute_result"
    }
   ],
   "source": [
    "fetch(@spawnat 2 myf())"
   ]
  },
  {
   "cell_type": "code",
   "execution_count": null,
   "id": "c98a3ed8-4650-481b-84b7-199287e5fa1e",
   "metadata": {},
   "outputs": [],
   "source": []
  },
  {
   "cell_type": "code",
   "execution_count": 49,
   "id": "e4599a69",
   "metadata": {
    "scrolled": true
   },
   "outputs": [
    {
     "name": "stdout",
     "output_type": "stream",
     "text": [
      "RemoteException(4, CapturedException(UndefVarError(Symbol(\"#myf\")), Any[(deserialize_datatype at Serialization.jl:1399, 1), (handle_deserialize at Serialization.jl:867, 1), (deserialize at Serialization.jl:814, 1), (handle_deserialize at Serialization.jl:874, 1), (deserialize at Serialization.jl:814 [inlined], 1), (deserialize_global_from_main at clusterserialize.jl:160, 1), (#5 at clusterserialize.jl:72 [inlined], 1), (foreach at abstractarray.jl:3097, 1), (deserialize at clusterserialize.jl:72, 1), (handle_deserialize at Serialization.jl:960, 1), (deserialize at Serialization.jl:814, 1), (handle_deserialize at Serialization.jl:871, 1), (deserialize at Serialization.jl:814, 1), (handle_deserialize at Serialization.jl:874, 1), (deserialize at Serialization.jl:814 [inlined], 1), (deserialize_msg at messages.jl:87, 1), (#invokelatest#2 at essentials.jl:892 [inlined], 1), (invokelatest at essentials.jl:889 [inlined], 1), (message_handler_loop at process_messages.jl:176, 1), (process_tcp_streams at process_messages.jl:133, 1), (#103 at process_messages.jl:121, 1)]))\n"
     ]
    }
   ],
   "source": [
    "a = nothing\n",
    "try \n",
    "    fetch(@spawnat 4 myf())\n",
    "catch e\n",
    "    println(e)\n",
    "end"
   ]
  },
  {
   "cell_type": "code",
   "execution_count": 50,
   "id": "b7658d33",
   "metadata": {},
   "outputs": [
    {
     "name": "stdout",
     "output_type": "stream",
     "text": [
      "      From worker 4:\tI am on worker 4\n"
     ]
    },
    {
     "data": {
      "text/plain": [
       "0.43466090764226784"
      ]
     },
     "execution_count": 50,
     "metadata": {},
     "output_type": "execute_result"
    }
   ],
   "source": [
    "@everywhere function myf() \n",
    "    println(\"I am on worker \", myid())\n",
    "    rand()\n",
    "end\n",
    "fetch(@spawnat 4 myf())"
   ]
  },
  {
   "cell_type": "markdown",
   "id": "5d208b0e",
   "metadata": {},
   "source": [
    "#### A typical pattern for setting an intial state across workers"
   ]
  },
  {
   "cell_type": "code",
   "execution_count": 141,
   "id": "f281840e",
   "metadata": {},
   "outputs": [
    {
     "name": "stderr",
     "output_type": "stream",
     "text": [
      "\u001b[32m\u001b[1m  Activating\u001b[22m\u001b[39m project at `C:\\AAABIBLIOTEKA\\EuropeanCommission\\2024_Julica_EC_Distributed_GPU\\1_ParallelDistributed`\n"
     ]
    },
    {
     "name": "stdout",
     "output_type": "stream",
     "text": [
      "      From worker 4:\t\u001b[32m\u001b[1m  Activating\u001b[22m\u001b[39m project at `C:\\AAABIBLIOTEKA\\EuropeanCommission\\2024_Julica_EC_Distributed_GPU\\1_ParallelDistributed`\n",
      "      From worker 5:\t\u001b[32m\u001b[1m  Activating\u001b[22m\u001b[39m project at `C:\\AAABIBLIOTEKA\\EuropeanCommission\\2024_Julica_EC_Distributed_GPU\\1_ParallelDistributed`\n",
      "      From worker 3:\t\u001b[32m\u001b[1m  Activating\u001b[22m\u001b[39m project at `C:\\AAABIBLIOTEKA\\EuropeanCommission\\2024_Julica_EC_Distributed_GPU\\1_ParallelDistributed`\n",
      "      From worker 2:\t\u001b[32m\u001b[1m  Activating\u001b[22m\u001b[39m project at `C:\\AAABIBLIOTEKA\\EuropeanCommission\\2024_Julica_EC_Distributed_GPU\\1_ParallelDistributed`\n"
     ]
    }
   ],
   "source": [
    "using Distributed\n",
    "# assumes you have already done addprocs\n",
    "\n",
    "@everywhere using Pkg\n",
    "# This assumes that the package is in the same folder as the running code\n",
    "@everywhere Pkg.activate(\".\")\n",
    "@everywhere using Distributed, Random, DataFrames\n",
    "\n",
    "@everywhere function calc(x, y)\n",
    "    2x + y + rand()\n",
    "end\n",
    "\n",
    "@everywhere function init_worker()    \n",
    "   Random.seed!(myid())\n",
    "    # reading initial data from files or other actions\n",
    "end\n",
    "\n",
    "@sync for wid in workers()\n",
    "    @async fetch(@spawnat wid init_worker())\n",
    "end\n"
   ]
  },
  {
   "cell_type": "markdown",
   "id": "10189162",
   "metadata": {},
   "source": [
    "Typically results are collected to a `DataFrame`"
   ]
  },
  {
   "cell_type": "code",
   "execution_count": 142,
   "id": "c636c081",
   "metadata": {},
   "outputs": [
    {
     "data": {
      "text/html": [
       "<div><div style = \"float: left;\"><span>24×7 DataFrame</span></div><div style = \"clear: both;\"></div></div><div class = \"data-frame\" style = \"overflow-x: scroll;\"><table class = \"data-frame\" style = \"margin-bottom: 6px;\"><thead><tr class = \"header\"><th class = \"rowNumber\" style = \"font-weight: bold; text-align: right;\">Row</th><th style = \"text-align: left;\">i</th><th style = \"text-align: left;\">j</th><th style = \"text-align: left;\">k</th><th style = \"text-align: left;\">a</th><th style = \"text-align: left;\">b</th><th style = \"text-align: left;\">c</th><th style = \"text-align: left;\">procid</th></tr><tr class = \"subheader headerLastRow\"><th class = \"rowNumber\" style = \"font-weight: bold; text-align: right;\"></th><th title = \"Int64\" style = \"text-align: left;\">Int64</th><th title = \"Int64\" style = \"text-align: left;\">Int64</th><th title = \"Int64\" style = \"text-align: left;\">Int64</th><th title = \"Int64\" style = \"text-align: left;\">Int64</th><th title = \"Int64\" style = \"text-align: left;\">Int64</th><th title = \"Float64\" style = \"text-align: left;\">Float64</th><th title = \"Int64\" style = \"text-align: left;\">Int64</th></tr></thead><tbody><tr><td class = \"rowNumber\" style = \"font-weight: bold; text-align: right;\">1</td><td style = \"text-align: right;\">1</td><td style = \"text-align: right;\">1</td><td style = \"text-align: right;\">1</td><td style = \"text-align: right;\">278</td><td style = \"text-align: right;\">1000</td><td style = \"text-align: right;\">1556.74</td><td style = \"text-align: right;\">2</td></tr><tr><td class = \"rowNumber\" style = \"font-weight: bold; text-align: right;\">2</td><td style = \"text-align: right;\">2</td><td style = \"text-align: right;\">1</td><td style = \"text-align: right;\">1</td><td style = \"text-align: right;\">175</td><td style = \"text-align: right;\">6000</td><td style = \"text-align: right;\">6350.9</td><td style = \"text-align: right;\">2</td></tr><tr><td class = \"rowNumber\" style = \"font-weight: bold; text-align: right;\">3</td><td style = \"text-align: right;\">3</td><td style = \"text-align: right;\">1</td><td style = \"text-align: right;\">1</td><td style = \"text-align: right;\">67</td><td style = \"text-align: right;\">8000</td><td style = \"text-align: right;\">8134.54</td><td style = \"text-align: right;\">2</td></tr><tr><td class = \"rowNumber\" style = \"font-weight: bold; text-align: right;\">4</td><td style = \"text-align: right;\">4</td><td style = \"text-align: right;\">1</td><td style = \"text-align: right;\">1</td><td style = \"text-align: right;\">455</td><td style = \"text-align: right;\">7000</td><td style = \"text-align: right;\">7910.49</td><td style = \"text-align: right;\">2</td></tr><tr><td class = \"rowNumber\" style = \"font-weight: bold; text-align: right;\">5</td><td style = \"text-align: right;\">1</td><td style = \"text-align: right;\">2</td><td style = \"text-align: right;\">1</td><td style = \"text-align: right;\">163</td><td style = \"text-align: right;\">5000</td><td style = \"text-align: right;\">5326.79</td><td style = \"text-align: right;\">2</td></tr><tr><td class = \"rowNumber\" style = \"font-weight: bold; text-align: right;\">6</td><td style = \"text-align: right;\">2</td><td style = \"text-align: right;\">2</td><td style = \"text-align: right;\">1</td><td style = \"text-align: right;\">127</td><td style = \"text-align: right;\">6000</td><td style = \"text-align: right;\">6254.37</td><td style = \"text-align: right;\">2</td></tr><tr><td class = \"rowNumber\" style = \"font-weight: bold; text-align: right;\">7</td><td style = \"text-align: right;\">3</td><td style = \"text-align: right;\">2</td><td style = \"text-align: right;\">1</td><td style = \"text-align: right;\">357</td><td style = \"text-align: right;\">2000</td><td style = \"text-align: right;\">2714.47</td><td style = \"text-align: right;\">3</td></tr><tr><td class = \"rowNumber\" style = \"font-weight: bold; text-align: right;\">8</td><td style = \"text-align: right;\">4</td><td style = \"text-align: right;\">2</td><td style = \"text-align: right;\">1</td><td style = \"text-align: right;\">217</td><td style = \"text-align: right;\">6000</td><td style = \"text-align: right;\">6434.57</td><td style = \"text-align: right;\">3</td></tr><tr><td class = \"rowNumber\" style = \"font-weight: bold; text-align: right;\">9</td><td style = \"text-align: right;\">1</td><td style = \"text-align: right;\">3</td><td style = \"text-align: right;\">1</td><td style = \"text-align: right;\">238</td><td style = \"text-align: right;\">9000</td><td style = \"text-align: right;\">9476.88</td><td style = \"text-align: right;\">3</td></tr><tr><td class = \"rowNumber\" style = \"font-weight: bold; text-align: right;\">10</td><td style = \"text-align: right;\">2</td><td style = \"text-align: right;\">3</td><td style = \"text-align: right;\">1</td><td style = \"text-align: right;\">95</td><td style = \"text-align: right;\">6000</td><td style = \"text-align: right;\">6190.5</td><td style = \"text-align: right;\">3</td></tr><tr><td class = \"rowNumber\" style = \"font-weight: bold; text-align: right;\">11</td><td style = \"text-align: right;\">3</td><td style = \"text-align: right;\">3</td><td style = \"text-align: right;\">1</td><td style = \"text-align: right;\">70</td><td style = \"text-align: right;\">4000</td><td style = \"text-align: right;\">4140.33</td><td style = \"text-align: right;\">3</td></tr><tr><td class = \"rowNumber\" style = \"font-weight: bold; text-align: right;\">12</td><td style = \"text-align: right;\">4</td><td style = \"text-align: right;\">3</td><td style = \"text-align: right;\">1</td><td style = \"text-align: right;\">335</td><td style = \"text-align: right;\">1000</td><td style = \"text-align: right;\">1670.82</td><td style = \"text-align: right;\">3</td></tr><tr><td class = \"rowNumber\" style = \"font-weight: bold; text-align: right;\">13</td><td style = \"text-align: right;\">1</td><td style = \"text-align: right;\">1</td><td style = \"text-align: right;\">2</td><td style = \"text-align: right;\">205</td><td style = \"text-align: right;\">3000</td><td style = \"text-align: right;\">3410.94</td><td style = \"text-align: right;\">4</td></tr><tr><td class = \"rowNumber\" style = \"font-weight: bold; text-align: right;\">14</td><td style = \"text-align: right;\">2</td><td style = \"text-align: right;\">1</td><td style = \"text-align: right;\">2</td><td style = \"text-align: right;\">30</td><td style = \"text-align: right;\">2000</td><td style = \"text-align: right;\">2060.75</td><td style = \"text-align: right;\">4</td></tr><tr><td class = \"rowNumber\" style = \"font-weight: bold; text-align: right;\">15</td><td style = \"text-align: right;\">3</td><td style = \"text-align: right;\">1</td><td style = \"text-align: right;\">2</td><td style = \"text-align: right;\">234</td><td style = \"text-align: right;\">9000</td><td style = \"text-align: right;\">9468.65</td><td style = \"text-align: right;\">4</td></tr><tr><td class = \"rowNumber\" style = \"font-weight: bold; text-align: right;\">16</td><td style = \"text-align: right;\">4</td><td style = \"text-align: right;\">1</td><td style = \"text-align: right;\">2</td><td style = \"text-align: right;\">55</td><td style = \"text-align: right;\">9000</td><td style = \"text-align: right;\">9110.09</td><td style = \"text-align: right;\">4</td></tr><tr><td class = \"rowNumber\" style = \"font-weight: bold; text-align: right;\">17</td><td style = \"text-align: right;\">1</td><td style = \"text-align: right;\">2</td><td style = \"text-align: right;\">2</td><td style = \"text-align: right;\">33</td><td style = \"text-align: right;\">2000</td><td style = \"text-align: right;\">2066.2</td><td style = \"text-align: right;\">4</td></tr><tr><td class = \"rowNumber\" style = \"font-weight: bold; text-align: right;\">18</td><td style = \"text-align: right;\">2</td><td style = \"text-align: right;\">2</td><td style = \"text-align: right;\">2</td><td style = \"text-align: right;\">468</td><td style = \"text-align: right;\">8000</td><td style = \"text-align: right;\">8936.01</td><td style = \"text-align: right;\">4</td></tr><tr><td class = \"rowNumber\" style = \"font-weight: bold; text-align: right;\">19</td><td style = \"text-align: right;\">3</td><td style = \"text-align: right;\">2</td><td style = \"text-align: right;\">2</td><td style = \"text-align: right;\">88</td><td style = \"text-align: right;\">1000</td><td style = \"text-align: right;\">1176.58</td><td style = \"text-align: right;\">5</td></tr><tr><td class = \"rowNumber\" style = \"font-weight: bold; text-align: right;\">20</td><td style = \"text-align: right;\">4</td><td style = \"text-align: right;\">2</td><td style = \"text-align: right;\">2</td><td style = \"text-align: right;\">417</td><td style = \"text-align: right;\">1000</td><td style = \"text-align: right;\">1834.59</td><td style = \"text-align: right;\">5</td></tr><tr><td class = \"rowNumber\" style = \"font-weight: bold; text-align: right;\">21</td><td style = \"text-align: right;\">1</td><td style = \"text-align: right;\">3</td><td style = \"text-align: right;\">2</td><td style = \"text-align: right;\">269</td><td style = \"text-align: right;\">6000</td><td style = \"text-align: right;\">6538.89</td><td style = \"text-align: right;\">5</td></tr><tr><td class = \"rowNumber\" style = \"font-weight: bold; text-align: right;\">22</td><td style = \"text-align: right;\">2</td><td style = \"text-align: right;\">3</td><td style = \"text-align: right;\">2</td><td style = \"text-align: right;\">240</td><td style = \"text-align: right;\">8000</td><td style = \"text-align: right;\">8480.37</td><td style = \"text-align: right;\">5</td></tr><tr><td class = \"rowNumber\" style = \"font-weight: bold; text-align: right;\">23</td><td style = \"text-align: right;\">3</td><td style = \"text-align: right;\">3</td><td style = \"text-align: right;\">2</td><td style = \"text-align: right;\">24</td><td style = \"text-align: right;\">9000</td><td style = \"text-align: right;\">9048.64</td><td style = \"text-align: right;\">5</td></tr><tr><td class = \"rowNumber\" style = \"font-weight: bold; text-align: right;\">24</td><td style = \"text-align: right;\">4</td><td style = \"text-align: right;\">3</td><td style = \"text-align: right;\">2</td><td style = \"text-align: right;\">95</td><td style = \"text-align: right;\">2000</td><td style = \"text-align: right;\">2190.04</td><td style = \"text-align: right;\">5</td></tr></tbody></table></div>"
      ],
      "text/latex": [
       "\\begin{tabular}{r|ccccccc}\n",
       "\t& i & j & k & a & b & c & procid\\\\\n",
       "\t\\hline\n",
       "\t& Int64 & Int64 & Int64 & Int64 & Int64 & Float64 & Int64\\\\\n",
       "\t\\hline\n",
       "\t1 & 1 & 1 & 1 & 278 & 1000 & 1556.74 & 2 \\\\\n",
       "\t2 & 2 & 1 & 1 & 175 & 6000 & 6350.9 & 2 \\\\\n",
       "\t3 & 3 & 1 & 1 & 67 & 8000 & 8134.54 & 2 \\\\\n",
       "\t4 & 4 & 1 & 1 & 455 & 7000 & 7910.49 & 2 \\\\\n",
       "\t5 & 1 & 2 & 1 & 163 & 5000 & 5326.79 & 2 \\\\\n",
       "\t6 & 2 & 2 & 1 & 127 & 6000 & 6254.37 & 2 \\\\\n",
       "\t7 & 3 & 2 & 1 & 357 & 2000 & 2714.47 & 3 \\\\\n",
       "\t8 & 4 & 2 & 1 & 217 & 6000 & 6434.57 & 3 \\\\\n",
       "\t9 & 1 & 3 & 1 & 238 & 9000 & 9476.88 & 3 \\\\\n",
       "\t10 & 2 & 3 & 1 & 95 & 6000 & 6190.5 & 3 \\\\\n",
       "\t11 & 3 & 3 & 1 & 70 & 4000 & 4140.33 & 3 \\\\\n",
       "\t12 & 4 & 3 & 1 & 335 & 1000 & 1670.82 & 3 \\\\\n",
       "\t13 & 1 & 1 & 2 & 205 & 3000 & 3410.94 & 4 \\\\\n",
       "\t14 & 2 & 1 & 2 & 30 & 2000 & 2060.75 & 4 \\\\\n",
       "\t15 & 3 & 1 & 2 & 234 & 9000 & 9468.65 & 4 \\\\\n",
       "\t16 & 4 & 1 & 2 & 55 & 9000 & 9110.09 & 4 \\\\\n",
       "\t17 & 1 & 2 & 2 & 33 & 2000 & 2066.2 & 4 \\\\\n",
       "\t18 & 2 & 2 & 2 & 468 & 8000 & 8936.01 & 4 \\\\\n",
       "\t19 & 3 & 2 & 2 & 88 & 1000 & 1176.58 & 5 \\\\\n",
       "\t20 & 4 & 2 & 2 & 417 & 1000 & 1834.59 & 5 \\\\\n",
       "\t21 & 1 & 3 & 2 & 269 & 6000 & 6538.89 & 5 \\\\\n",
       "\t22 & 2 & 3 & 2 & 240 & 8000 & 8480.37 & 5 \\\\\n",
       "\t23 & 3 & 3 & 2 & 24 & 9000 & 9048.64 & 5 \\\\\n",
       "\t24 & 4 & 3 & 2 & 95 & 2000 & 2190.04 & 5 \\\\\n",
       "\\end{tabular}\n"
      ],
      "text/plain": [
       "\u001b[1m24×7 DataFrame\u001b[0m\n",
       "\u001b[1m Row \u001b[0m│\u001b[1m i     \u001b[0m\u001b[1m j     \u001b[0m\u001b[1m k     \u001b[0m\u001b[1m a     \u001b[0m\u001b[1m b     \u001b[0m\u001b[1m c       \u001b[0m\u001b[1m procid \u001b[0m\n",
       "     │\u001b[90m Int64 \u001b[0m\u001b[90m Int64 \u001b[0m\u001b[90m Int64 \u001b[0m\u001b[90m Int64 \u001b[0m\u001b[90m Int64 \u001b[0m\u001b[90m Float64 \u001b[0m\u001b[90m Int64  \u001b[0m\n",
       "─────┼────────────────────────────────────────────────────\n",
       "   1 │     1      1      1    278   1000  1556.74       2\n",
       "   2 │     2      1      1    175   6000  6350.9        2\n",
       "   3 │     3      1      1     67   8000  8134.54       2\n",
       "   4 │     4      1      1    455   7000  7910.49       2\n",
       "   5 │     1      2      1    163   5000  5326.79       2\n",
       "   6 │     2      2      1    127   6000  6254.37       2\n",
       "   7 │     3      2      1    357   2000  2714.47       3\n",
       "   8 │     4      2      1    217   6000  6434.57       3\n",
       "   9 │     1      3      1    238   9000  9476.88       3\n",
       "  10 │     2      3      1     95   6000  6190.5        3\n",
       "  11 │     3      3      1     70   4000  4140.33       3\n",
       "  ⋮  │   ⋮      ⋮      ⋮      ⋮      ⋮       ⋮       ⋮\n",
       "  15 │     3      1      2    234   9000  9468.65       4\n",
       "  16 │     4      1      2     55   9000  9110.09       4\n",
       "  17 │     1      2      2     33   2000  2066.2        4\n",
       "  18 │     2      2      2    468   8000  8936.01       4\n",
       "  19 │     3      2      2     88   1000  1176.58       5\n",
       "  20 │     4      2      2    417   1000  1834.59       5\n",
       "  21 │     1      3      2    269   6000  6538.89       5\n",
       "  22 │     2      3      2    240   8000  8480.37       5\n",
       "  23 │     3      3      2     24   9000  9048.64       5\n",
       "  24 │     4      3      2     95   2000  2190.04       5\n",
       "\u001b[36m                                            3 rows omitted\u001b[0m"
      ]
     },
     "execution_count": 142,
     "metadata": {},
     "output_type": "execute_result"
    }
   ],
   "source": [
    "data = @distributed (append!) for (i, j, k) = vec(collect(Iterators.product(1:4, 1:3, 1:2)))\n",
    "    a = rand(1:499)\n",
    "    b = rand(1:9)*1000\n",
    "    c = calc(a, b)\n",
    "    DataFrame(;i,j,k,a,b,c,procid = myid())\n",
    "end"
   ]
  },
  {
   "cell_type": "code",
   "execution_count": 147,
   "id": "caabf25b-377f-41c9-acf1-da32079e5211",
   "metadata": {},
   "outputs": [],
   "source": [
    "@everywhere myfun(i) =  (;i, procid=myid(), c= calc(i,i) )"
   ]
  },
  {
   "cell_type": "code",
   "execution_count": 148,
   "id": "f6f2b5f7-6521-47e5-8ed7-1f0226d0c583",
   "metadata": {},
   "outputs": [
    {
     "data": {
      "text/html": [
       "<div><div style = \"float: left;\"><span>10×3 DataFrame</span></div><div style = \"clear: both;\"></div></div><div class = \"data-frame\" style = \"overflow-x: scroll;\"><table class = \"data-frame\" style = \"margin-bottom: 6px;\"><thead><tr class = \"header\"><th class = \"rowNumber\" style = \"font-weight: bold; text-align: right;\">Row</th><th style = \"text-align: left;\">i</th><th style = \"text-align: left;\">procid</th><th style = \"text-align: left;\">c</th></tr><tr class = \"subheader headerLastRow\"><th class = \"rowNumber\" style = \"font-weight: bold; text-align: right;\"></th><th title = \"Int64\" style = \"text-align: left;\">Int64</th><th title = \"Int64\" style = \"text-align: left;\">Int64</th><th title = \"Float64\" style = \"text-align: left;\">Float64</th></tr></thead><tbody><tr><td class = \"rowNumber\" style = \"font-weight: bold; text-align: right;\">1</td><td style = \"text-align: right;\">1</td><td style = \"text-align: right;\">2</td><td style = \"text-align: right;\">3.75133</td></tr><tr><td class = \"rowNumber\" style = \"font-weight: bold; text-align: right;\">2</td><td style = \"text-align: right;\">2</td><td style = \"text-align: right;\">4</td><td style = \"text-align: right;\">6.72633</td></tr><tr><td class = \"rowNumber\" style = \"font-weight: bold; text-align: right;\">3</td><td style = \"text-align: right;\">3</td><td style = \"text-align: right;\">3</td><td style = \"text-align: right;\">9.25065</td></tr><tr><td class = \"rowNumber\" style = \"font-weight: bold; text-align: right;\">4</td><td style = \"text-align: right;\">4</td><td style = \"text-align: right;\">5</td><td style = \"text-align: right;\">12.8475</td></tr><tr><td class = \"rowNumber\" style = \"font-weight: bold; text-align: right;\">5</td><td style = \"text-align: right;\">5</td><td style = \"text-align: right;\">5</td><td style = \"text-align: right;\">15.5972</td></tr><tr><td class = \"rowNumber\" style = \"font-weight: bold; text-align: right;\">6</td><td style = \"text-align: right;\">6</td><td style = \"text-align: right;\">4</td><td style = \"text-align: right;\">18.7157</td></tr><tr><td class = \"rowNumber\" style = \"font-weight: bold; text-align: right;\">7</td><td style = \"text-align: right;\">7</td><td style = \"text-align: right;\">5</td><td style = \"text-align: right;\">21.664</td></tr><tr><td class = \"rowNumber\" style = \"font-weight: bold; text-align: right;\">8</td><td style = \"text-align: right;\">8</td><td style = \"text-align: right;\">4</td><td style = \"text-align: right;\">24.248</td></tr><tr><td class = \"rowNumber\" style = \"font-weight: bold; text-align: right;\">9</td><td style = \"text-align: right;\">9</td><td style = \"text-align: right;\">5</td><td style = \"text-align: right;\">27.8401</td></tr><tr><td class = \"rowNumber\" style = \"font-weight: bold; text-align: right;\">10</td><td style = \"text-align: right;\">10</td><td style = \"text-align: right;\">4</td><td style = \"text-align: right;\">30.9266</td></tr></tbody></table></div>"
      ],
      "text/latex": [
       "\\begin{tabular}{r|ccc}\n",
       "\t& i & procid & c\\\\\n",
       "\t\\hline\n",
       "\t& Int64 & Int64 & Float64\\\\\n",
       "\t\\hline\n",
       "\t1 & 1 & 2 & 3.75133 \\\\\n",
       "\t2 & 2 & 4 & 6.72633 \\\\\n",
       "\t3 & 3 & 3 & 9.25065 \\\\\n",
       "\t4 & 4 & 5 & 12.8475 \\\\\n",
       "\t5 & 5 & 5 & 15.5972 \\\\\n",
       "\t6 & 6 & 4 & 18.7157 \\\\\n",
       "\t7 & 7 & 5 & 21.664 \\\\\n",
       "\t8 & 8 & 4 & 24.248 \\\\\n",
       "\t9 & 9 & 5 & 27.8401 \\\\\n",
       "\t10 & 10 & 4 & 30.9266 \\\\\n",
       "\\end{tabular}\n"
      ],
      "text/plain": [
       "\u001b[1m10×3 DataFrame\u001b[0m\n",
       "\u001b[1m Row \u001b[0m│\u001b[1m i     \u001b[0m\u001b[1m procid \u001b[0m\u001b[1m c        \u001b[0m\n",
       "     │\u001b[90m Int64 \u001b[0m\u001b[90m Int64  \u001b[0m\u001b[90m Float64  \u001b[0m\n",
       "─────┼─────────────────────────\n",
       "   1 │     1       2   3.75133\n",
       "   2 │     2       4   6.72633\n",
       "   3 │     3       3   9.25065\n",
       "   4 │     4       5  12.8475\n",
       "   5 │     5       5  15.5972\n",
       "   6 │     6       4  18.7157\n",
       "   7 │     7       5  21.664\n",
       "   8 │     8       4  24.248\n",
       "   9 │     9       5  27.8401\n",
       "  10 │    10       4  30.9266"
      ]
     },
     "execution_count": 148,
     "metadata": {},
     "output_type": "execute_result"
    }
   ],
   "source": [
    "pmap(myfun, 1:10) |> DataFrame"
   ]
  }
 ],
 "metadata": {
  "kernelspec": {
   "display_name": "Julia 1.10.3",
   "language": "julia",
   "name": "julia-1.10"
  },
  "language_info": {
   "file_extension": ".jl",
   "mimetype": "application/julia",
   "name": "julia",
   "version": "1.10.3"
  }
 },
 "nbformat": 4,
 "nbformat_minor": 5
}
